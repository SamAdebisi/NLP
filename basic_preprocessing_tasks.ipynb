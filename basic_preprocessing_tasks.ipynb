{
 "cells": [
  {
   "cell_type": "code",
   "execution_count": 2,
   "metadata": {},
   "outputs": [
    {
     "name": "stdout",
     "output_type": "stream",
     "text": [
      "Requirement already satisfied: nltk in /Users/azeez/miniforge3/lib/python3.10/site-packages (3.9.1)\n",
      "Requirement already satisfied: click in /Users/azeez/miniforge3/lib/python3.10/site-packages (from nltk) (8.1.8)\n",
      "Requirement already satisfied: joblib in /Users/azeez/miniforge3/lib/python3.10/site-packages (from nltk) (1.4.2)\n",
      "Requirement already satisfied: regex>=2021.8.3 in /Users/azeez/miniforge3/lib/python3.10/site-packages (from nltk) (2024.11.6)\n",
      "Requirement already satisfied: tqdm in /Users/azeez/miniforge3/lib/python3.10/site-packages (from nltk) (4.67.1)\n",
      "Note: you may need to restart the kernel to use updated packages.\n"
     ]
    }
   ],
   "source": [
    "# install nltk\n",
    "%pip install nltk"
   ]
  },
  {
   "cell_type": "code",
   "execution_count": 3,
   "metadata": {},
   "outputs": [],
   "source": [
    "#import the libraries\n",
    "import nltk\n",
    "import pandas as pd"
   ]
  },
  {
   "cell_type": "code",
   "execution_count": 4,
   "metadata": {},
   "outputs": [
    {
     "name": "stderr",
     "output_type": "stream",
     "text": [
      "[nltk_data] Downloading package punkt to /Users/azeez/nltk_data...\n",
      "[nltk_data]   Package punkt is already up-to-date!\n",
      "[nltk_data] Downloading package wordnet to /Users/azeez/nltk_data...\n",
      "[nltk_data]   Package wordnet is already up-to-date!\n",
      "[nltk_data] Downloading package stopwords to /Users/azeez/nltk_data...\n",
      "[nltk_data]   Unzipping corpora/stopwords.zip.\n",
      "[nltk_data] Downloading package omw-1.4 to /Users/azeez/nltk_data...\n",
      "[nltk_data]   Package omw-1.4 is already up-to-date!\n"
     ]
    },
    {
     "data": {
      "text/plain": [
       "True"
      ]
     },
     "execution_count": 4,
     "metadata": {},
     "output_type": "execute_result"
    }
   ],
   "source": [
    "#download the necessary models for each task\n",
    "nltk.download('punkt')  # Download the tokenizer models\n",
    "nltk.download('wordnet')  # Download WordNet, required for semantic analysis for lemmatization\n",
    "nltk.download('stopwords')\n",
    "#nltk.download('averaged_perceptron_tagger')  # Download POS tagger\n",
    "nltk.download('omw-1.4')  # Download the WordNet OMW corpus"
   ]
  },
  {
   "cell_type": "code",
   "execution_count": 5,
   "metadata": {},
   "outputs": [],
   "source": [
    "#input text\n",
    "doc1 = \"Birdwatching study, is a serene and educational hobby, which has captivated enthusiasts worldwide by offering an intimate glimpse into the avian world. This activity not only deepens one’s appreciation for nature’s diversity but also enhances observational skills, as birdwatchers learn to identify species by their plumage, calls, and behavior. The process begins with the birdwatcher positioning themselves in habitats ranging from dense forests to urban parks, armed with essential tools such as binoculars and field guides. These guides are invaluable for distinguishing between species, noting characteristics such as color patterns, sizes, and distinctive markings. Additionally, listening plays a crucial role in birdwatching; the ability to recognize birdsongs and calls can reveal the presence of species hidden from view. The practice also involves recording observations, often in a journal or a digital app, which contributes to citizen science by providing data on bird populations and migration patterns. This aspect of birdwatching underscores its significance beyond recreation, highlighting its contribution to conservation efforts. Through these endeavors, birdwatching fosters a connection with nature, encourages environmental stewardship, and provides insights into the ecological roles of birds within their habitats. As such, it serves as a multifaceted activity that combines leisure with learning and conservation.\"\n",
    "doc2 = \"Spelunking, an adventurous and enlightening hobby, has attracted enthusiasts worldwide with its thrilling exploration of the subterranean world. This activity not only heightens one's appreciation for the planet's underground beauty but also sharpens exploratory skills, as spelunkers learn to navigate through caves, recognizing formations like stalactites, stalagmites, and mineral deposits. The journey begins with the spelunker equipping themselves with essential gear such as helmets, headlamps, and protective clothing, venturing into environments ranging from vast cave systems to narrow underground passages. These tools are crucial for safe navigation and observation of geological features, enabling spelunkers to identify and appreciate the unique characteristics of each cave. Moreover, listening plays a pivotal role in spelunking; the sounds of dripping water or the echo of a chamber can enhance the sensory experience. The practice also includes documenting discoveries, often in a journal or digital format, contributing to scientific knowledge by providing data on geology, hydrology, and cave biology. This aspect of spelunking emphasizes its value beyond adventure, highlighting its contribution to scientific understanding and conservation. Through these pursuits, spelunking fosters a connection with the earth's hidden landscapes, promotes environmental awareness, and provides insights into the geological processes that shape our world. As such, it serves as a multifaceted activity that blends excitement with education and environmental stewardship.\"\n",
    "doc3 = \"Golfing, a refined and strategic hobby, has enchanted enthusiasts worldwide with its blend of skill, patience, and outdoor beauty. This activity not only deepens one's appreciation for meticulously designed landscapes but also hones precision and focus, as golfers learn to master strokes, understand course topography, and gauge environmental factors like wind and terrain. The experience begins with the golfer equipping themselves with essential gear such as clubs, balls, and tees, embarking on courses that range from lush greens to challenging sand traps and water hazards. These tools are indispensable for executing a variety of shots, allowing golfers to navigate through courses while aiming to minimize their strokes. Moreover, observation plays a crucial role in golfing; the ability to read greens and anticipate ball paths can significantly influence gameplay. The practice also involves keeping score, often in a digital app or scorecard, which adds a competitive element and enables tracking of progress and skill improvement. This aspect of golfing underscores its appeal beyond leisure, highlighting its capacity for personal challenge and mental discipline. Through these endeavors, golfing fosters a connection with the outdoors, encourages sportsmanship, and provides insights into personal strategy and resilience. As such, it serves as a multifaceted activity that combines relaxation with challenge and personal development.\"\n",
    "\n",
    "corpus = [doc1, doc2, doc3]"
   ]
  },
  {
   "cell_type": "code",
   "execution_count": null,
   "metadata": {},
   "outputs": [],
   "source": []
  }
 ],
 "metadata": {
  "kernelspec": {
   "display_name": "base",
   "language": "python",
   "name": "python3"
  },
  "language_info": {
   "codemirror_mode": {
    "name": "ipython",
    "version": 3
   },
   "file_extension": ".py",
   "mimetype": "text/x-python",
   "name": "python",
   "nbconvert_exporter": "python",
   "pygments_lexer": "ipython3",
   "version": "3.10.14"
  }
 },
 "nbformat": 4,
 "nbformat_minor": 2
}
