{
 "cells": [
  {
   "cell_type": "code",
   "execution_count": 2,
   "metadata": {},
   "outputs": [
    {
     "name": "stdout",
     "output_type": "stream",
     "text": [
      "Requirement already satisfied: nltk in /Users/azeez/miniforge3/lib/python3.10/site-packages (3.9.1)\n",
      "Requirement already satisfied: click in /Users/azeez/miniforge3/lib/python3.10/site-packages (from nltk) (8.1.8)\n",
      "Requirement already satisfied: joblib in /Users/azeez/miniforge3/lib/python3.10/site-packages (from nltk) (1.4.2)\n",
      "Requirement already satisfied: regex>=2021.8.3 in /Users/azeez/miniforge3/lib/python3.10/site-packages (from nltk) (2024.11.6)\n",
      "Requirement already satisfied: tqdm in /Users/azeez/miniforge3/lib/python3.10/site-packages (from nltk) (4.67.1)\n",
      "Note: you may need to restart the kernel to use updated packages.\n"
     ]
    }
   ],
   "source": [
    "# install nltk\n",
    "%pip install nltk"
   ]
  },
  {
   "cell_type": "code",
   "execution_count": 3,
   "metadata": {},
   "outputs": [],
   "source": [
    "#import the libraries\n",
    "import nltk\n",
    "import pandas as pd"
   ]
  },
  {
   "cell_type": "code",
   "execution_count": 4,
   "metadata": {},
   "outputs": [
    {
     "name": "stderr",
     "output_type": "stream",
     "text": [
      "[nltk_data] Downloading package punkt to /Users/azeez/nltk_data...\n",
      "[nltk_data]   Package punkt is already up-to-date!\n",
      "[nltk_data] Downloading package wordnet to /Users/azeez/nltk_data...\n",
      "[nltk_data]   Package wordnet is already up-to-date!\n",
      "[nltk_data] Downloading package stopwords to /Users/azeez/nltk_data...\n",
      "[nltk_data]   Unzipping corpora/stopwords.zip.\n",
      "[nltk_data] Downloading package omw-1.4 to /Users/azeez/nltk_data...\n",
      "[nltk_data]   Package omw-1.4 is already up-to-date!\n"
     ]
    },
    {
     "data": {
      "text/plain": [
       "True"
      ]
     },
     "execution_count": 4,
     "metadata": {},
     "output_type": "execute_result"
    }
   ],
   "source": [
    "#download the necessary models for each task\n",
    "nltk.download('punkt')  # Download the tokenizer models\n",
    "nltk.download('wordnet')  # Download WordNet, required for semantic analysis for lemmatization\n",
    "nltk.download('stopwords')\n",
    "#nltk.download('averaged_perceptron_tagger')  # Download POS tagger\n",
    "nltk.download('omw-1.4')  # Download the WordNet OMW corpus"
   ]
  },
  {
   "cell_type": "code",
   "execution_count": 5,
   "metadata": {},
   "outputs": [],
   "source": [
    "#input text\n",
    "doc1 = \"Birdwatching study, is a serene and educational hobby, which has captivated enthusiasts worldwide by offering an intimate glimpse into the avian world. This activity not only deepens one’s appreciation for nature’s diversity but also enhances observational skills, as birdwatchers learn to identify species by their plumage, calls, and behavior. The process begins with the birdwatcher positioning themselves in habitats ranging from dense forests to urban parks, armed with essential tools such as binoculars and field guides. These guides are invaluable for distinguishing between species, noting characteristics such as color patterns, sizes, and distinctive markings. Additionally, listening plays a crucial role in birdwatching; the ability to recognize birdsongs and calls can reveal the presence of species hidden from view. The practice also involves recording observations, often in a journal or a digital app, which contributes to citizen science by providing data on bird populations and migration patterns. This aspect of birdwatching underscores its significance beyond recreation, highlighting its contribution to conservation efforts. Through these endeavors, birdwatching fosters a connection with nature, encourages environmental stewardship, and provides insights into the ecological roles of birds within their habitats. As such, it serves as a multifaceted activity that combines leisure with learning and conservation.\"\n",
    "doc2 = \"Spelunking, an adventurous and enlightening hobby, has attracted enthusiasts worldwide with its thrilling exploration of the subterranean world. This activity not only heightens one's appreciation for the planet's underground beauty but also sharpens exploratory skills, as spelunkers learn to navigate through caves, recognizing formations like stalactites, stalagmites, and mineral deposits. The journey begins with the spelunker equipping themselves with essential gear such as helmets, headlamps, and protective clothing, venturing into environments ranging from vast cave systems to narrow underground passages. These tools are crucial for safe navigation and observation of geological features, enabling spelunkers to identify and appreciate the unique characteristics of each cave. Moreover, listening plays a pivotal role in spelunking; the sounds of dripping water or the echo of a chamber can enhance the sensory experience. The practice also includes documenting discoveries, often in a journal or digital format, contributing to scientific knowledge by providing data on geology, hydrology, and cave biology. This aspect of spelunking emphasizes its value beyond adventure, highlighting its contribution to scientific understanding and conservation. Through these pursuits, spelunking fosters a connection with the earth's hidden landscapes, promotes environmental awareness, and provides insights into the geological processes that shape our world. As such, it serves as a multifaceted activity that blends excitement with education and environmental stewardship.\"\n",
    "doc3 = \"Golfing, a refined and strategic hobby, has enchanted enthusiasts worldwide with its blend of skill, patience, and outdoor beauty. This activity not only deepens one's appreciation for meticulously designed landscapes but also hones precision and focus, as golfers learn to master strokes, understand course topography, and gauge environmental factors like wind and terrain. The experience begins with the golfer equipping themselves with essential gear such as clubs, balls, and tees, embarking on courses that range from lush greens to challenging sand traps and water hazards. These tools are indispensable for executing a variety of shots, allowing golfers to navigate through courses while aiming to minimize their strokes. Moreover, observation plays a crucial role in golfing; the ability to read greens and anticipate ball paths can significantly influence gameplay. The practice also involves keeping score, often in a digital app or scorecard, which adds a competitive element and enables tracking of progress and skill improvement. This aspect of golfing underscores its appeal beyond leisure, highlighting its capacity for personal challenge and mental discipline. Through these endeavors, golfing fosters a connection with the outdoors, encourages sportsmanship, and provides insights into personal strategy and resilience. As such, it serves as a multifaceted activity that combines relaxation with challenge and personal development.\"\n",
    "\n",
    "corpus = [doc1, doc2, doc3]"
   ]
  },
  {
   "cell_type": "code",
   "execution_count": 6,
   "metadata": {},
   "outputs": [
    {
     "name": "stdout",
     "output_type": "stream",
     "text": [
      "\n",
      "Tokenized Documents:\n",
      "Document 1 Tokens: ['Birdwatching', 'study', ',', 'is', 'a', 'serene', 'and', 'educational', 'hobby', ',', 'which', 'has', 'captivated', 'enthusiasts', 'worldwide', 'by', 'offering', 'an', 'intimate', 'glimpse', 'into', 'the', 'avian', 'world', '.', 'This', 'activity', 'not', 'only', 'deepens', 'one', '’', 's', 'appreciation', 'for', 'nature', '’', 's', 'diversity', 'but', 'also', 'enhances', 'observational', 'skills', ',', 'as', 'birdwatchers', 'learn', 'to', 'identify', 'species', 'by', 'their', 'plumage', ',', 'calls', ',', 'and', 'behavior', '.', 'The', 'process', 'begins', 'with', 'the', 'birdwatcher', 'positioning', 'themselves', 'in', 'habitats', 'ranging', 'from', 'dense', 'forests', 'to', 'urban', 'parks', ',', 'armed', 'with', 'essential', 'tools', 'such', 'as', 'binoculars', 'and', 'field', 'guides', '.', 'These', 'guides', 'are', 'invaluable', 'for', 'distinguishing', 'between', 'species', ',', 'noting', 'characteristics', 'such', 'as', 'color', 'patterns', ',', 'sizes', ',', 'and', 'distinctive', 'markings', '.', 'Additionally', ',', 'listening', 'plays', 'a', 'crucial', 'role', 'in', 'birdwatching', ';', 'the', 'ability', 'to', 'recognize', 'birdsongs', 'and', 'calls', 'can', 'reveal', 'the', 'presence', 'of', 'species', 'hidden', 'from', 'view', '.', 'The', 'practice', 'also', 'involves', 'recording', 'observations', ',', 'often', 'in', 'a', 'journal', 'or', 'a', 'digital', 'app', ',', 'which', 'contributes', 'to', 'citizen', 'science', 'by', 'providing', 'data', 'on', 'bird', 'populations', 'and', 'migration', 'patterns', '.', 'This', 'aspect', 'of', 'birdwatching', 'underscores', 'its', 'significance', 'beyond', 'recreation', ',', 'highlighting', 'its', 'contribution', 'to', 'conservation', 'efforts', '.', 'Through', 'these', 'endeavors', ',', 'birdwatching', 'fosters', 'a', 'connection', 'with', 'nature', ',', 'encourages', 'environmental', 'stewardship', ',', 'and', 'provides', 'insights', 'into', 'the', 'ecological', 'roles', 'of', 'birds', 'within', 'their', 'habitats', '.', 'As', 'such', ',', 'it', 'serves', 'as', 'a', 'multifaceted', 'activity', 'that', 'combines', 'leisure', 'with', 'learning', 'and', 'conservation', '.'] ... (Total: 231 )\n",
      "\n",
      "Document 2 Tokens: ['Spelunking', ',', 'an', 'adventurous', 'and', 'enlightening', 'hobby', ',', 'has', 'attracted', 'enthusiasts', 'worldwide', 'with', 'its', 'thrilling', 'exploration', 'of', 'the', 'subterranean', 'world', '.', 'This', 'activity', 'not', 'only', 'heightens', 'one', \"'s\", 'appreciation', 'for', 'the', 'planet', \"'s\", 'underground', 'beauty', 'but', 'also', 'sharpens', 'exploratory', 'skills', ',', 'as', 'spelunkers', 'learn', 'to', 'navigate', 'through', 'caves', ',', 'recognizing', 'formations', 'like', 'stalactites', ',', 'stalagmites', ',', 'and', 'mineral', 'deposits', '.', 'The', 'journey', 'begins', 'with', 'the', 'spelunker', 'equipping', 'themselves', 'with', 'essential', 'gear', 'such', 'as', 'helmets', ',', 'headlamps', ',', 'and', 'protective', 'clothing', ',', 'venturing', 'into', 'environments', 'ranging', 'from', 'vast', 'cave', 'systems', 'to', 'narrow', 'underground', 'passages', '.', 'These', 'tools', 'are', 'crucial', 'for', 'safe', 'navigation', 'and', 'observation', 'of', 'geological', 'features', ',', 'enabling', 'spelunkers', 'to', 'identify', 'and', 'appreciate', 'the', 'unique', 'characteristics', 'of', 'each', 'cave', '.', 'Moreover', ',', 'listening', 'plays', 'a', 'pivotal', 'role', 'in', 'spelunking', ';', 'the', 'sounds', 'of', 'dripping', 'water', 'or', 'the', 'echo', 'of', 'a', 'chamber', 'can', 'enhance', 'the', 'sensory', 'experience', '.', 'The', 'practice', 'also', 'includes', 'documenting', 'discoveries', ',', 'often', 'in', 'a', 'journal', 'or', 'digital', 'format', ',', 'contributing', 'to', 'scientific', 'knowledge', 'by', 'providing', 'data', 'on', 'geology', ',', 'hydrology', ',', 'and', 'cave', 'biology', '.', 'This', 'aspect', 'of', 'spelunking', 'emphasizes', 'its', 'value', 'beyond', 'adventure', ',', 'highlighting', 'its', 'contribution', 'to', 'scientific', 'understanding', 'and', 'conservation', '.', 'Through', 'these', 'pursuits', ',', 'spelunking', 'fosters', 'a', 'connection', 'with', 'the', 'earth', \"'s\", 'hidden', 'landscapes', ',', 'promotes', 'environmental', 'awareness', ',', 'and', 'provides', 'insights', 'into', 'the', 'geological', 'processes', 'that', 'shape', 'our', 'world', '.', 'As', 'such', ',', 'it', 'serves', 'as', 'a', 'multifaceted', 'activity', 'that', 'blends', 'excitement', 'with', 'education', 'and', 'environmental', 'stewardship', '.'] ... (Total: 246 )\n",
      "\n",
      "Document 3 Tokens: ['Golfing', ',', 'a', 'refined', 'and', 'strategic', 'hobby', ',', 'has', 'enchanted', 'enthusiasts', 'worldwide', 'with', 'its', 'blend', 'of', 'skill', ',', 'patience', ',', 'and', 'outdoor', 'beauty', '.', 'This', 'activity', 'not', 'only', 'deepens', 'one', \"'s\", 'appreciation', 'for', 'meticulously', 'designed', 'landscapes', 'but', 'also', 'hones', 'precision', 'and', 'focus', ',', 'as', 'golfers', 'learn', 'to', 'master', 'strokes', ',', 'understand', 'course', 'topography', ',', 'and', 'gauge', 'environmental', 'factors', 'like', 'wind', 'and', 'terrain', '.', 'The', 'experience', 'begins', 'with', 'the', 'golfer', 'equipping', 'themselves', 'with', 'essential', 'gear', 'such', 'as', 'clubs', ',', 'balls', ',', 'and', 'tees', ',', 'embarking', 'on', 'courses', 'that', 'range', 'from', 'lush', 'greens', 'to', 'challenging', 'sand', 'traps', 'and', 'water', 'hazards', '.', 'These', 'tools', 'are', 'indispensable', 'for', 'executing', 'a', 'variety', 'of', 'shots', ',', 'allowing', 'golfers', 'to', 'navigate', 'through', 'courses', 'while', 'aiming', 'to', 'minimize', 'their', 'strokes', '.', 'Moreover', ',', 'observation', 'plays', 'a', 'crucial', 'role', 'in', 'golfing', ';', 'the', 'ability', 'to', 'read', 'greens', 'and', 'anticipate', 'ball', 'paths', 'can', 'significantly', 'influence', 'gameplay', '.', 'The', 'practice', 'also', 'involves', 'keeping', 'score', ',', 'often', 'in', 'a', 'digital', 'app', 'or', 'scorecard', ',', 'which', 'adds', 'a', 'competitive', 'element', 'and', 'enables', 'tracking', 'of', 'progress', 'and', 'skill', 'improvement', '.', 'This', 'aspect', 'of', 'golfing', 'underscores', 'its', 'appeal', 'beyond', 'leisure', ',', 'highlighting', 'its', 'capacity', 'for', 'personal', 'challenge', 'and', 'mental', 'discipline', '.', 'Through', 'these', 'endeavors', ',', 'golfing', 'fosters', 'a', 'connection', 'with', 'the', 'outdoors', ',', 'encourages', 'sportsmanship', ',', 'and', 'provides', 'insights', 'into', 'personal', 'strategy', 'and', 'resilience', '.', 'As', 'such', ',', 'it', 'serves', 'as', 'a', 'multifaceted', 'activity', 'that', 'combines', 'relaxation', 'with', 'challenge', 'and', 'personal', 'development', '.'] ... (Total: 238 )\n",
      "\n"
     ]
    }
   ],
   "source": [
    "#tokenization\n",
    "from nltk.tokenize import word_tokenize\n",
    "tokenized_docs = []\n",
    "for doc in corpus:\n",
    "  tokens = word_tokenize(doc)\n",
    "  tokenized_docs.append(tokens)\n",
    "\n",
    "#printing the all the tokens for all documents and the token lengths for each document    \n",
    "print(\"\\nTokenized Documents:\")\n",
    "for i, doc in enumerate(tokenized_docs):\n",
    "  print(f\"Document {i+1} Tokens:\", doc[:], \"... (Total:\", len(doc), \")\")\n",
    "  print()  # Add an empty print statement for a new line"
   ]
  },
  {
   "cell_type": "code",
   "execution_count": 7,
   "metadata": {},
   "outputs": [
    {
     "name": "stdout",
     "output_type": "stream",
     "text": [
      "\n",
      "Tokenized and Lowercased Documents:\n",
      "Document 1 Tokens: ['birdwatching', 'study', ',', 'is', 'a', 'serene', 'and', 'educational', 'hobby', ',', 'which', 'has', 'captivated', 'enthusiasts', 'worldwide', 'by', 'offering', 'an', 'intimate', 'glimpse', 'into', 'the', 'avian', 'world', '.', 'this', 'activity', 'not', 'only', 'deepens', 'one', '’', 's', 'appreciation', 'for', 'nature', '’', 's', 'diversity', 'but', 'also', 'enhances', 'observational', 'skills', ',', 'as', 'birdwatchers', 'learn', 'to', 'identify', 'species', 'by', 'their', 'plumage', ',', 'calls', ',', 'and', 'behavior', '.', 'the', 'process', 'begins', 'with', 'the', 'birdwatcher', 'positioning', 'themselves', 'in', 'habitats', 'ranging', 'from', 'dense', 'forests', 'to', 'urban', 'parks', ',', 'armed', 'with', 'essential', 'tools', 'such', 'as', 'binoculars', 'and', 'field', 'guides', '.', 'these', 'guides', 'are', 'invaluable', 'for', 'distinguishing', 'between', 'species', ',', 'noting', 'characteristics', 'such', 'as', 'color', 'patterns', ',', 'sizes', ',', 'and', 'distinctive', 'markings', '.', 'additionally', ',', 'listening', 'plays', 'a', 'crucial', 'role', 'in', 'birdwatching', ';', 'the', 'ability', 'to', 'recognize', 'birdsongs', 'and', 'calls', 'can', 'reveal', 'the', 'presence', 'of', 'species', 'hidden', 'from', 'view', '.', 'the', 'practice', 'also', 'involves', 'recording', 'observations', ',', 'often', 'in', 'a', 'journal', 'or', 'a', 'digital', 'app', ',', 'which', 'contributes', 'to', 'citizen', 'science', 'by', 'providing', 'data', 'on', 'bird', 'populations', 'and', 'migration', 'patterns', '.', 'this', 'aspect', 'of', 'birdwatching', 'underscores', 'its', 'significance', 'beyond', 'recreation', ',', 'highlighting', 'its', 'contribution', 'to', 'conservation', 'efforts', '.', 'through', 'these', 'endeavors', ',', 'birdwatching', 'fosters', 'a', 'connection', 'with', 'nature', ',', 'encourages', 'environmental', 'stewardship', ',', 'and', 'provides', 'insights', 'into', 'the', 'ecological', 'roles', 'of', 'birds', 'within', 'their', 'habitats', '.', 'as', 'such', ',', 'it', 'serves', 'as', 'a', 'multifaceted', 'activity', 'that', 'combines', 'leisure', 'with', 'learning', 'and', 'conservation', '.'] ... (Total: 231 )\n",
      "\n",
      "Document 2 Tokens: ['spelunking', ',', 'an', 'adventurous', 'and', 'enlightening', 'hobby', ',', 'has', 'attracted', 'enthusiasts', 'worldwide', 'with', 'its', 'thrilling', 'exploration', 'of', 'the', 'subterranean', 'world', '.', 'this', 'activity', 'not', 'only', 'heightens', 'one', \"'s\", 'appreciation', 'for', 'the', 'planet', \"'s\", 'underground', 'beauty', 'but', 'also', 'sharpens', 'exploratory', 'skills', ',', 'as', 'spelunkers', 'learn', 'to', 'navigate', 'through', 'caves', ',', 'recognizing', 'formations', 'like', 'stalactites', ',', 'stalagmites', ',', 'and', 'mineral', 'deposits', '.', 'the', 'journey', 'begins', 'with', 'the', 'spelunker', 'equipping', 'themselves', 'with', 'essential', 'gear', 'such', 'as', 'helmets', ',', 'headlamps', ',', 'and', 'protective', 'clothing', ',', 'venturing', 'into', 'environments', 'ranging', 'from', 'vast', 'cave', 'systems', 'to', 'narrow', 'underground', 'passages', '.', 'these', 'tools', 'are', 'crucial', 'for', 'safe', 'navigation', 'and', 'observation', 'of', 'geological', 'features', ',', 'enabling', 'spelunkers', 'to', 'identify', 'and', 'appreciate', 'the', 'unique', 'characteristics', 'of', 'each', 'cave', '.', 'moreover', ',', 'listening', 'plays', 'a', 'pivotal', 'role', 'in', 'spelunking', ';', 'the', 'sounds', 'of', 'dripping', 'water', 'or', 'the', 'echo', 'of', 'a', 'chamber', 'can', 'enhance', 'the', 'sensory', 'experience', '.', 'the', 'practice', 'also', 'includes', 'documenting', 'discoveries', ',', 'often', 'in', 'a', 'journal', 'or', 'digital', 'format', ',', 'contributing', 'to', 'scientific', 'knowledge', 'by', 'providing', 'data', 'on', 'geology', ',', 'hydrology', ',', 'and', 'cave', 'biology', '.', 'this', 'aspect', 'of', 'spelunking', 'emphasizes', 'its', 'value', 'beyond', 'adventure', ',', 'highlighting', 'its', 'contribution', 'to', 'scientific', 'understanding', 'and', 'conservation', '.', 'through', 'these', 'pursuits', ',', 'spelunking', 'fosters', 'a', 'connection', 'with', 'the', 'earth', \"'s\", 'hidden', 'landscapes', ',', 'promotes', 'environmental', 'awareness', ',', 'and', 'provides', 'insights', 'into', 'the', 'geological', 'processes', 'that', 'shape', 'our', 'world', '.', 'as', 'such', ',', 'it', 'serves', 'as', 'a', 'multifaceted', 'activity', 'that', 'blends', 'excitement', 'with', 'education', 'and', 'environmental', 'stewardship', '.'] ... (Total: 246 )\n",
      "\n",
      "Document 3 Tokens: ['golfing', ',', 'a', 'refined', 'and', 'strategic', 'hobby', ',', 'has', 'enchanted', 'enthusiasts', 'worldwide', 'with', 'its', 'blend', 'of', 'skill', ',', 'patience', ',', 'and', 'outdoor', 'beauty', '.', 'this', 'activity', 'not', 'only', 'deepens', 'one', \"'s\", 'appreciation', 'for', 'meticulously', 'designed', 'landscapes', 'but', 'also', 'hones', 'precision', 'and', 'focus', ',', 'as', 'golfers', 'learn', 'to', 'master', 'strokes', ',', 'understand', 'course', 'topography', ',', 'and', 'gauge', 'environmental', 'factors', 'like', 'wind', 'and', 'terrain', '.', 'the', 'experience', 'begins', 'with', 'the', 'golfer', 'equipping', 'themselves', 'with', 'essential', 'gear', 'such', 'as', 'clubs', ',', 'balls', ',', 'and', 'tees', ',', 'embarking', 'on', 'courses', 'that', 'range', 'from', 'lush', 'greens', 'to', 'challenging', 'sand', 'traps', 'and', 'water', 'hazards', '.', 'these', 'tools', 'are', 'indispensable', 'for', 'executing', 'a', 'variety', 'of', 'shots', ',', 'allowing', 'golfers', 'to', 'navigate', 'through', 'courses', 'while', 'aiming', 'to', 'minimize', 'their', 'strokes', '.', 'moreover', ',', 'observation', 'plays', 'a', 'crucial', 'role', 'in', 'golfing', ';', 'the', 'ability', 'to', 'read', 'greens', 'and', 'anticipate', 'ball', 'paths', 'can', 'significantly', 'influence', 'gameplay', '.', 'the', 'practice', 'also', 'involves', 'keeping', 'score', ',', 'often', 'in', 'a', 'digital', 'app', 'or', 'scorecard', ',', 'which', 'adds', 'a', 'competitive', 'element', 'and', 'enables', 'tracking', 'of', 'progress', 'and', 'skill', 'improvement', '.', 'this', 'aspect', 'of', 'golfing', 'underscores', 'its', 'appeal', 'beyond', 'leisure', ',', 'highlighting', 'its', 'capacity', 'for', 'personal', 'challenge', 'and', 'mental', 'discipline', '.', 'through', 'these', 'endeavors', ',', 'golfing', 'fosters', 'a', 'connection', 'with', 'the', 'outdoors', ',', 'encourages', 'sportsmanship', ',', 'and', 'provides', 'insights', 'into', 'personal', 'strategy', 'and', 'resilience', '.', 'as', 'such', ',', 'it', 'serves', 'as', 'a', 'multifaceted', 'activity', 'that', 'combines', 'relaxation', 'with', 'challenge', 'and', 'personal', 'development', '.'] ... (Total: 238 )\n",
      "\n"
     ]
    }
   ],
   "source": [
    "# Convert tokens to lowercase\n",
    "lowercased_docs = []\n",
    "for tokens in tokenized_docs:\n",
    "    lowercased_tokens = [token.lower() for token in tokens]\n",
    "    lowercased_docs.append(lowercased_tokens)\n",
    "\n",
    "# Print the tokenized and lowercased documents\n",
    "print(\"\\nTokenized and Lowercased Documents:\")\n",
    "for i, doc in enumerate(lowercased_docs):\n",
    "    print(f\"Document {i+1} Tokens:\", doc, \"... (Total:\", len(doc), \")\\n\")"
   ]
  },
  {
   "cell_type": "code",
   "execution_count": 8,
   "metadata": {},
   "outputs": [
    {
     "name": "stdout",
     "output_type": "stream",
     "text": [
      "\n",
      "Documents with Tokens Lowercased and Punctuation Removed:\n",
      "Document 1 Tokens: ['birdwatching', 'study', 'is', 'a', 'serene', 'and', 'educational', 'hobby', 'which', 'has', 'captivated', 'enthusiasts', 'worldwide', 'by', 'offering', 'an', 'intimate', 'glimpse', 'into', 'the', 'avian', 'world', 'this', 'activity', 'not', 'only', 'deepens', 'one', 's', 'appreciation', 'for', 'nature', 's', 'diversity', 'but', 'also', 'enhances', 'observational', 'skills', 'as', 'birdwatchers', 'learn', 'to', 'identify', 'species', 'by', 'their', 'plumage', 'calls', 'and', 'behavior', 'the', 'process', 'begins', 'with', 'the', 'birdwatcher', 'positioning', 'themselves', 'in', 'habitats', 'ranging', 'from', 'dense', 'forests', 'to', 'urban', 'parks', 'armed', 'with', 'essential', 'tools', 'such', 'as', 'binoculars', 'and', 'field', 'guides', 'these', 'guides', 'are', 'invaluable', 'for', 'distinguishing', 'between', 'species', 'noting', 'characteristics', 'such', 'as', 'color', 'patterns', 'sizes', 'and', 'distinctive', 'markings', 'additionally', 'listening', 'plays', 'a', 'crucial', 'role', 'in', 'birdwatching', 'the', 'ability', 'to', 'recognize', 'birdsongs', 'and', 'calls', 'can', 'reveal', 'the', 'presence', 'of', 'species', 'hidden', 'from', 'view', 'the', 'practice', 'also', 'involves', 'recording', 'observations', 'often', 'in', 'a', 'journal', 'or', 'a', 'digital', 'app', 'which', 'contributes', 'to', 'citizen', 'science', 'by', 'providing', 'data', 'on', 'bird', 'populations', 'and', 'migration', 'patterns', 'this', 'aspect', 'of', 'birdwatching', 'underscores', 'its', 'significance', 'beyond', 'recreation', 'highlighting', 'its', 'contribution', 'to', 'conservation', 'efforts', 'through', 'these', 'endeavors', 'birdwatching', 'fosters', 'a', 'connection', 'with', 'nature', 'encourages', 'environmental', 'stewardship', 'and', 'provides', 'insights', 'into', 'the', 'ecological', 'roles', 'of', 'birds', 'within', 'their', 'habitats', 'as', 'such', 'it', 'serves', 'as', 'a', 'multifaceted', 'activity', 'that', 'combines', 'leisure', 'with', 'learning', 'and', 'conservation'] ... (Total: 202 )\n",
      "\n",
      "Document 2 Tokens: ['spelunking', 'an', 'adventurous', 'and', 'enlightening', 'hobby', 'has', 'attracted', 'enthusiasts', 'worldwide', 'with', 'its', 'thrilling', 'exploration', 'of', 'the', 'subterranean', 'world', 'this', 'activity', 'not', 'only', 'heightens', 'one', 'appreciation', 'for', 'the', 'planet', 'underground', 'beauty', 'but', 'also', 'sharpens', 'exploratory', 'skills', 'as', 'spelunkers', 'learn', 'to', 'navigate', 'through', 'caves', 'recognizing', 'formations', 'like', 'stalactites', 'stalagmites', 'and', 'mineral', 'deposits', 'the', 'journey', 'begins', 'with', 'the', 'spelunker', 'equipping', 'themselves', 'with', 'essential', 'gear', 'such', 'as', 'helmets', 'headlamps', 'and', 'protective', 'clothing', 'venturing', 'into', 'environments', 'ranging', 'from', 'vast', 'cave', 'systems', 'to', 'narrow', 'underground', 'passages', 'these', 'tools', 'are', 'crucial', 'for', 'safe', 'navigation', 'and', 'observation', 'of', 'geological', 'features', 'enabling', 'spelunkers', 'to', 'identify', 'and', 'appreciate', 'the', 'unique', 'characteristics', 'of', 'each', 'cave', 'moreover', 'listening', 'plays', 'a', 'pivotal', 'role', 'in', 'spelunking', 'the', 'sounds', 'of', 'dripping', 'water', 'or', 'the', 'echo', 'of', 'a', 'chamber', 'can', 'enhance', 'the', 'sensory', 'experience', 'the', 'practice', 'also', 'includes', 'documenting', 'discoveries', 'often', 'in', 'a', 'journal', 'or', 'digital', 'format', 'contributing', 'to', 'scientific', 'knowledge', 'by', 'providing', 'data', 'on', 'geology', 'hydrology', 'and', 'cave', 'biology', 'this', 'aspect', 'of', 'spelunking', 'emphasizes', 'its', 'value', 'beyond', 'adventure', 'highlighting', 'its', 'contribution', 'to', 'scientific', 'understanding', 'and', 'conservation', 'through', 'these', 'pursuits', 'spelunking', 'fosters', 'a', 'connection', 'with', 'the', 'earth', 'hidden', 'landscapes', 'promotes', 'environmental', 'awareness', 'and', 'provides', 'insights', 'into', 'the', 'geological', 'processes', 'that', 'shape', 'our', 'world', 'as', 'such', 'it', 'serves', 'as', 'a', 'multifaceted', 'activity', 'that', 'blends', 'excitement', 'with', 'education', 'and', 'environmental', 'stewardship'] ... (Total: 213 )\n",
      "\n",
      "Document 3 Tokens: ['golfing', 'a', 'refined', 'and', 'strategic', 'hobby', 'has', 'enchanted', 'enthusiasts', 'worldwide', 'with', 'its', 'blend', 'of', 'skill', 'patience', 'and', 'outdoor', 'beauty', 'this', 'activity', 'not', 'only', 'deepens', 'one', 'appreciation', 'for', 'meticulously', 'designed', 'landscapes', 'but', 'also', 'hones', 'precision', 'and', 'focus', 'as', 'golfers', 'learn', 'to', 'master', 'strokes', 'understand', 'course', 'topography', 'and', 'gauge', 'environmental', 'factors', 'like', 'wind', 'and', 'terrain', 'the', 'experience', 'begins', 'with', 'the', 'golfer', 'equipping', 'themselves', 'with', 'essential', 'gear', 'such', 'as', 'clubs', 'balls', 'and', 'tees', 'embarking', 'on', 'courses', 'that', 'range', 'from', 'lush', 'greens', 'to', 'challenging', 'sand', 'traps', 'and', 'water', 'hazards', 'these', 'tools', 'are', 'indispensable', 'for', 'executing', 'a', 'variety', 'of', 'shots', 'allowing', 'golfers', 'to', 'navigate', 'through', 'courses', 'while', 'aiming', 'to', 'minimize', 'their', 'strokes', 'moreover', 'observation', 'plays', 'a', 'crucial', 'role', 'in', 'golfing', 'the', 'ability', 'to', 'read', 'greens', 'and', 'anticipate', 'ball', 'paths', 'can', 'significantly', 'influence', 'gameplay', 'the', 'practice', 'also', 'involves', 'keeping', 'score', 'often', 'in', 'a', 'digital', 'app', 'or', 'scorecard', 'which', 'adds', 'a', 'competitive', 'element', 'and', 'enables', 'tracking', 'of', 'progress', 'and', 'skill', 'improvement', 'this', 'aspect', 'of', 'golfing', 'underscores', 'its', 'appeal', 'beyond', 'leisure', 'highlighting', 'its', 'capacity', 'for', 'personal', 'challenge', 'and', 'mental', 'discipline', 'through', 'these', 'endeavors', 'golfing', 'fosters', 'a', 'connection', 'with', 'the', 'outdoors', 'encourages', 'sportsmanship', 'and', 'provides', 'insights', 'into', 'personal', 'strategy', 'and', 'resilience', 'as', 'such', 'it', 'serves', 'as', 'a', 'multifaceted', 'activity', 'that', 'combines', 'relaxation', 'with', 'challenge', 'and', 'personal', 'development'] ... (Total: 208 )\n",
      "\n"
     ]
    }
   ],
   "source": [
    "# import string\n",
    "\n",
    "# Remove punctuation\n",
    "no_punctuation_docs = []\n",
    "for tokens in lowercased_docs:\n",
    "    filtered_tokens = [token for token in tokens if token.isalpha()]  # Remove punctuation\n",
    "    no_punctuation_docs.append(filtered_tokens)\n",
    "\n",
    "# Print the documents without punctuation, along with their token counts\n",
    "print(\"\\nDocuments with Tokens Lowercased and Punctuation Removed:\")\n",
    "for i, doc in enumerate(no_punctuation_docs):\n",
    "    print(f\"Document {i+1} Tokens:\", doc, \"... (Total:\", len(doc), \")\\n\")"
   ]
  },
  {
   "cell_type": "code",
   "execution_count": 11,
   "metadata": {},
   "outputs": [
    {
     "name": "stdout",
     "output_type": "stream",
     "text": [
      "\n",
      "Documents with Tokens Lowercased, Punctuation Removed, and Stopwords Removed:\n",
      "Document 1 Tokens: ['birdwatching', 'study', 'serene', 'educational', 'hobby', 'captivated', 'enthusiasts', 'worldwide', 'offering', 'intimate', 'glimpse', 'avian', 'world', 'activity', 'deepens', 'one', 'appreciation', 'nature', 'diversity', 'also', 'enhances', 'observational', 'skills', 'birdwatchers', 'learn', 'identify', 'species', 'plumage', 'calls', 'behavior', 'process', 'begins', 'birdwatcher', 'positioning', 'habitats', 'ranging', 'dense', 'forests', 'urban', 'parks', 'armed', 'essential', 'tools', 'binoculars', 'field', 'guides', 'guides', 'invaluable', 'distinguishing', 'species', 'noting', 'characteristics', 'color', 'patterns', 'sizes', 'distinctive', 'markings', 'additionally', 'listening', 'plays', 'crucial', 'role', 'birdwatching', 'ability', 'recognize', 'birdsongs', 'calls', 'reveal', 'presence', 'species', 'hidden', 'view', 'practice', 'also', 'involves', 'recording', 'observations', 'often', 'journal', 'digital', 'app', 'contributes', 'citizen', 'science', 'providing', 'data', 'bird', 'populations', 'migration', 'patterns', 'aspect', 'birdwatching', 'underscores', 'significance', 'beyond', 'recreation', 'highlighting', 'contribution', 'conservation', 'efforts', 'endeavors', 'birdwatching', 'fosters', 'connection', 'nature', 'encourages', 'environmental', 'stewardship', 'provides', 'insights', 'ecological', 'roles', 'birds', 'within', 'habitats', 'serves', 'multifaceted', 'activity', 'combines', 'leisure', 'learning', 'conservation'] ... (Total: 122 )\n",
      "\n",
      "Document 2 Tokens: ['spelunking', 'adventurous', 'enlightening', 'hobby', 'attracted', 'enthusiasts', 'worldwide', 'thrilling', 'exploration', 'subterranean', 'world', 'activity', 'heightens', 'one', 'appreciation', 'planet', 'underground', 'beauty', 'also', 'sharpens', 'exploratory', 'skills', 'spelunkers', 'learn', 'navigate', 'caves', 'recognizing', 'formations', 'like', 'stalactites', 'stalagmites', 'mineral', 'deposits', 'journey', 'begins', 'spelunker', 'equipping', 'essential', 'gear', 'helmets', 'headlamps', 'protective', 'clothing', 'venturing', 'environments', 'ranging', 'vast', 'cave', 'systems', 'narrow', 'underground', 'passages', 'tools', 'crucial', 'safe', 'navigation', 'observation', 'geological', 'features', 'enabling', 'spelunkers', 'identify', 'appreciate', 'unique', 'characteristics', 'cave', 'moreover', 'listening', 'plays', 'pivotal', 'role', 'spelunking', 'sounds', 'dripping', 'water', 'echo', 'chamber', 'enhance', 'sensory', 'experience', 'practice', 'also', 'includes', 'documenting', 'discoveries', 'often', 'journal', 'digital', 'format', 'contributing', 'scientific', 'knowledge', 'providing', 'data', 'geology', 'hydrology', 'cave', 'biology', 'aspect', 'spelunking', 'emphasizes', 'value', 'beyond', 'adventure', 'highlighting', 'contribution', 'scientific', 'understanding', 'conservation', 'pursuits', 'spelunking', 'fosters', 'connection', 'earth', 'hidden', 'landscapes', 'promotes', 'environmental', 'awareness', 'provides', 'insights', 'geological', 'processes', 'shape', 'world', 'serves', 'multifaceted', 'activity', 'blends', 'excitement', 'education', 'environmental', 'stewardship'] ... (Total: 133 )\n",
      "\n",
      "Document 3 Tokens: ['golfing', 'refined', 'strategic', 'hobby', 'enchanted', 'enthusiasts', 'worldwide', 'blend', 'skill', 'patience', 'outdoor', 'beauty', 'activity', 'deepens', 'one', 'appreciation', 'meticulously', 'designed', 'landscapes', 'also', 'hones', 'precision', 'focus', 'golfers', 'learn', 'master', 'strokes', 'understand', 'course', 'topography', 'gauge', 'environmental', 'factors', 'like', 'wind', 'terrain', 'experience', 'begins', 'golfer', 'equipping', 'essential', 'gear', 'clubs', 'balls', 'tees', 'embarking', 'courses', 'range', 'lush', 'greens', 'challenging', 'sand', 'traps', 'water', 'hazards', 'tools', 'indispensable', 'executing', 'variety', 'shots', 'allowing', 'golfers', 'navigate', 'courses', 'aiming', 'minimize', 'strokes', 'moreover', 'observation', 'plays', 'crucial', 'role', 'golfing', 'ability', 'read', 'greens', 'anticipate', 'ball', 'paths', 'significantly', 'influence', 'gameplay', 'practice', 'also', 'involves', 'keeping', 'score', 'often', 'digital', 'app', 'scorecard', 'adds', 'competitive', 'element', 'enables', 'tracking', 'progress', 'skill', 'improvement', 'aspect', 'golfing', 'underscores', 'appeal', 'beyond', 'leisure', 'highlighting', 'capacity', 'personal', 'challenge', 'mental', 'discipline', 'endeavors', 'golfing', 'fosters', 'connection', 'outdoors', 'encourages', 'sportsmanship', 'provides', 'insights', 'personal', 'strategy', 'resilience', 'serves', 'multifaceted', 'activity', 'combines', 'relaxation', 'challenge', 'personal', 'development'] ... (Total: 131 )\n",
      "\n"
     ]
    }
   ],
   "source": [
    "# Stop Words Removal\n",
    "from nltk.corpus import stopwords\n",
    "# Get the English stopwords\n",
    "stop_words = set(stopwords.words('english'))\n",
    "\n",
    "# Remove stopwords\n",
    "no_stopwords_docs = []\n",
    "for tokens in no_punctuation_docs:\n",
    "    filtered_tokens = [token for token in tokens if token not in stop_words]\n",
    "    no_stopwords_docs.append(filtered_tokens)\n",
    "\n",
    "# Print the documents without stopwords, along with their token counts\n",
    "print(\"\\nDocuments with Tokens Lowercased, Punctuation Removed, and Stopwords Removed:\")\n",
    "for i, doc in enumerate(no_stopwords_docs):\n",
    "    print(f\"Document {i+1} Tokens:\", doc, \"... (Total:\", len(doc), \")\\n\")"
   ]
  },
  {
   "cell_type": "code",
   "execution_count": 12,
   "metadata": {},
   "outputs": [
    {
     "name": "stdout",
     "output_type": "stream",
     "text": [
      "\n",
      "Documents with Tokens Lowercased, Punctuation Removed, and Stopwords Including 'also' Removed:\n",
      "Document 1 Tokens: ['birdwatching', 'study', 'serene', 'educational', 'hobby', 'captivated', 'enthusiasts', 'worldwide', 'offering', 'intimate', 'glimpse', 'avian', 'world', 'activity', 'deepens', 'one', 'appreciation', 'nature', 'diversity', 'enhances', 'observational', 'skills', 'birdwatchers', 'learn', 'identify', 'species', 'plumage', 'calls', 'behavior', 'process', 'begins', 'birdwatcher', 'positioning', 'habitats', 'ranging', 'dense', 'forests', 'urban', 'parks', 'armed', 'essential', 'tools', 'binoculars', 'field', 'guides', 'guides', 'invaluable', 'distinguishing', 'species', 'noting', 'characteristics', 'color', 'patterns', 'sizes', 'distinctive', 'markings', 'additionally', 'listening', 'plays', 'crucial', 'role', 'birdwatching', 'ability', 'recognize', 'birdsongs', 'calls', 'reveal', 'presence', 'species', 'hidden', 'view', 'practice', 'involves', 'recording', 'observations', 'often', 'journal', 'digital', 'app', 'contributes', 'citizen', 'science', 'providing', 'data', 'bird', 'populations', 'migration', 'patterns', 'aspect', 'birdwatching', 'underscores', 'significance', 'beyond', 'recreation', 'highlighting', 'contribution', 'conservation', 'efforts', 'endeavors', 'birdwatching', 'fosters', 'connection', 'nature', 'encourages', 'environmental', 'stewardship', 'provides', 'insights', 'ecological', 'roles', 'birds', 'within', 'habitats', 'serves', 'multifaceted', 'activity', 'combines', 'leisure', 'learning', 'conservation'] ... (Total: 120 )\n",
      "\n",
      "Document 2 Tokens: ['spelunking', 'adventurous', 'enlightening', 'hobby', 'attracted', 'enthusiasts', 'worldwide', 'thrilling', 'exploration', 'subterranean', 'world', 'activity', 'heightens', 'one', 'appreciation', 'planet', 'underground', 'beauty', 'sharpens', 'exploratory', 'skills', 'spelunkers', 'learn', 'navigate', 'caves', 'recognizing', 'formations', 'like', 'stalactites', 'stalagmites', 'mineral', 'deposits', 'journey', 'begins', 'spelunker', 'equipping', 'essential', 'gear', 'helmets', 'headlamps', 'protective', 'clothing', 'venturing', 'environments', 'ranging', 'vast', 'cave', 'systems', 'narrow', 'underground', 'passages', 'tools', 'crucial', 'safe', 'navigation', 'observation', 'geological', 'features', 'enabling', 'spelunkers', 'identify', 'appreciate', 'unique', 'characteristics', 'cave', 'moreover', 'listening', 'plays', 'pivotal', 'role', 'spelunking', 'sounds', 'dripping', 'water', 'echo', 'chamber', 'enhance', 'sensory', 'experience', 'practice', 'includes', 'documenting', 'discoveries', 'often', 'journal', 'digital', 'format', 'contributing', 'scientific', 'knowledge', 'providing', 'data', 'geology', 'hydrology', 'cave', 'biology', 'aspect', 'spelunking', 'emphasizes', 'value', 'beyond', 'adventure', 'highlighting', 'contribution', 'scientific', 'understanding', 'conservation', 'pursuits', 'spelunking', 'fosters', 'connection', 'earth', 'hidden', 'landscapes', 'promotes', 'environmental', 'awareness', 'provides', 'insights', 'geological', 'processes', 'shape', 'world', 'serves', 'multifaceted', 'activity', 'blends', 'excitement', 'education', 'environmental', 'stewardship'] ... (Total: 131 )\n",
      "\n",
      "Document 3 Tokens: ['golfing', 'refined', 'strategic', 'hobby', 'enchanted', 'enthusiasts', 'worldwide', 'blend', 'skill', 'patience', 'outdoor', 'beauty', 'activity', 'deepens', 'one', 'appreciation', 'meticulously', 'designed', 'landscapes', 'hones', 'precision', 'focus', 'golfers', 'learn', 'master', 'strokes', 'understand', 'course', 'topography', 'gauge', 'environmental', 'factors', 'like', 'wind', 'terrain', 'experience', 'begins', 'golfer', 'equipping', 'essential', 'gear', 'clubs', 'balls', 'tees', 'embarking', 'courses', 'range', 'lush', 'greens', 'challenging', 'sand', 'traps', 'water', 'hazards', 'tools', 'indispensable', 'executing', 'variety', 'shots', 'allowing', 'golfers', 'navigate', 'courses', 'aiming', 'minimize', 'strokes', 'moreover', 'observation', 'plays', 'crucial', 'role', 'golfing', 'ability', 'read', 'greens', 'anticipate', 'ball', 'paths', 'significantly', 'influence', 'gameplay', 'practice', 'involves', 'keeping', 'score', 'often', 'digital', 'app', 'scorecard', 'adds', 'competitive', 'element', 'enables', 'tracking', 'progress', 'skill', 'improvement', 'aspect', 'golfing', 'underscores', 'appeal', 'beyond', 'leisure', 'highlighting', 'capacity', 'personal', 'challenge', 'mental', 'discipline', 'endeavors', 'golfing', 'fosters', 'connection', 'outdoors', 'encourages', 'sportsmanship', 'provides', 'insights', 'personal', 'strategy', 'resilience', 'serves', 'multifaceted', 'activity', 'combines', 'relaxation', 'challenge', 'personal', 'development'] ... (Total: 129 )\n",
      "\n"
     ]
    }
   ],
   "source": [
    "# Add 'also' to the set of stopwords\n",
    "stop_words.add('also')\n",
    "\n",
    "# Remove stopwords again, now including 'also'\n",
    "no_stopwords_including_also_docs = []\n",
    "for tokens in no_stopwords_docs:  # We'll start from the already stopword-removed docs\n",
    "    filtered_tokens = [token for token in tokens if token not in stop_words]\n",
    "    no_stopwords_including_also_docs.append(filtered_tokens)\n",
    "\n",
    "# Print the documents without 'also' and other stopwords, along with their token counts\n",
    "print(\"\\nDocuments with Tokens Lowercased, Punctuation Removed, and Stopwords Including 'also' Removed:\")\n",
    "for i, doc in enumerate(no_stopwords_including_also_docs):\n",
    "    print(f\"Document {i+1} Tokens:\", doc, \"... (Total:\", len(doc), \")\\n\")"
   ]
  },
  {
   "cell_type": "code",
   "execution_count": null,
   "metadata": {},
   "outputs": [],
   "source": []
  }
 ],
 "metadata": {
  "kernelspec": {
   "display_name": "base",
   "language": "python",
   "name": "python3"
  },
  "language_info": {
   "codemirror_mode": {
    "name": "ipython",
    "version": 3
   },
   "file_extension": ".py",
   "mimetype": "text/x-python",
   "name": "python",
   "nbconvert_exporter": "python",
   "pygments_lexer": "ipython3",
   "version": "3.10.14"
  }
 },
 "nbformat": 4,
 "nbformat_minor": 2
}
