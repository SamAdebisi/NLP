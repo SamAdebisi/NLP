{
 "cells": [
  {
   "cell_type": "code",
   "execution_count": 2,
   "metadata": {},
   "outputs": [
    {
     "name": "stdout",
     "output_type": "stream",
     "text": [
      "Requirement already satisfied: nltk in /Users/azeez/miniforge3/lib/python3.10/site-packages (3.9.1)\n",
      "Requirement already satisfied: click in /Users/azeez/miniforge3/lib/python3.10/site-packages (from nltk) (8.1.8)\n",
      "Requirement already satisfied: joblib in /Users/azeez/miniforge3/lib/python3.10/site-packages (from nltk) (1.4.2)\n",
      "Requirement already satisfied: regex>=2021.8.3 in /Users/azeez/miniforge3/lib/python3.10/site-packages (from nltk) (2024.11.6)\n",
      "Requirement already satisfied: tqdm in /Users/azeez/miniforge3/lib/python3.10/site-packages (from nltk) (4.67.1)\n",
      "Note: you may need to restart the kernel to use updated packages.\n"
     ]
    }
   ],
   "source": [
    "# install nltk\n",
    "%pip install nltk"
   ]
  },
  {
   "cell_type": "code",
   "execution_count": 3,
   "metadata": {},
   "outputs": [],
   "source": [
    "#import the libraries\n",
    "import nltk\n",
    "import pandas as pd"
   ]
  },
  {
   "cell_type": "code",
   "execution_count": 4,
   "metadata": {},
   "outputs": [
    {
     "name": "stderr",
     "output_type": "stream",
     "text": [
      "[nltk_data] Downloading package punkt to /Users/azeez/nltk_data...\n",
      "[nltk_data]   Package punkt is already up-to-date!\n",
      "[nltk_data] Downloading package wordnet to /Users/azeez/nltk_data...\n",
      "[nltk_data]   Package wordnet is already up-to-date!\n",
      "[nltk_data] Downloading package stopwords to /Users/azeez/nltk_data...\n",
      "[nltk_data]   Unzipping corpora/stopwords.zip.\n",
      "[nltk_data] Downloading package omw-1.4 to /Users/azeez/nltk_data...\n",
      "[nltk_data]   Package omw-1.4 is already up-to-date!\n"
     ]
    },
    {
     "data": {
      "text/plain": [
       "True"
      ]
     },
     "execution_count": 4,
     "metadata": {},
     "output_type": "execute_result"
    }
   ],
   "source": [
    "#download the necessary models for each task\n",
    "nltk.download('punkt')  # Download the tokenizer models\n",
    "nltk.download('wordnet')  # Download WordNet, required for semantic analysis for lemmatization\n",
    "nltk.download('stopwords')\n",
    "#nltk.download('averaged_perceptron_tagger')  # Download POS tagger\n",
    "nltk.download('omw-1.4')  # Download the WordNet OMW corpus"
   ]
  },
  {
   "cell_type": "code",
   "execution_count": 5,
   "metadata": {},
   "outputs": [],
   "source": [
    "#input text\n",
    "doc1 = \"Birdwatching study, is a serene and educational hobby, which has captivated enthusiasts worldwide by offering an intimate glimpse into the avian world. This activity not only deepens one’s appreciation for nature’s diversity but also enhances observational skills, as birdwatchers learn to identify species by their plumage, calls, and behavior. The process begins with the birdwatcher positioning themselves in habitats ranging from dense forests to urban parks, armed with essential tools such as binoculars and field guides. These guides are invaluable for distinguishing between species, noting characteristics such as color patterns, sizes, and distinctive markings. Additionally, listening plays a crucial role in birdwatching; the ability to recognize birdsongs and calls can reveal the presence of species hidden from view. The practice also involves recording observations, often in a journal or a digital app, which contributes to citizen science by providing data on bird populations and migration patterns. This aspect of birdwatching underscores its significance beyond recreation, highlighting its contribution to conservation efforts. Through these endeavors, birdwatching fosters a connection with nature, encourages environmental stewardship, and provides insights into the ecological roles of birds within their habitats. As such, it serves as a multifaceted activity that combines leisure with learning and conservation.\"\n",
    "doc2 = \"Spelunking, an adventurous and enlightening hobby, has attracted enthusiasts worldwide with its thrilling exploration of the subterranean world. This activity not only heightens one's appreciation for the planet's underground beauty but also sharpens exploratory skills, as spelunkers learn to navigate through caves, recognizing formations like stalactites, stalagmites, and mineral deposits. The journey begins with the spelunker equipping themselves with essential gear such as helmets, headlamps, and protective clothing, venturing into environments ranging from vast cave systems to narrow underground passages. These tools are crucial for safe navigation and observation of geological features, enabling spelunkers to identify and appreciate the unique characteristics of each cave. Moreover, listening plays a pivotal role in spelunking; the sounds of dripping water or the echo of a chamber can enhance the sensory experience. The practice also includes documenting discoveries, often in a journal or digital format, contributing to scientific knowledge by providing data on geology, hydrology, and cave biology. This aspect of spelunking emphasizes its value beyond adventure, highlighting its contribution to scientific understanding and conservation. Through these pursuits, spelunking fosters a connection with the earth's hidden landscapes, promotes environmental awareness, and provides insights into the geological processes that shape our world. As such, it serves as a multifaceted activity that blends excitement with education and environmental stewardship.\"\n",
    "doc3 = \"Golfing, a refined and strategic hobby, has enchanted enthusiasts worldwide with its blend of skill, patience, and outdoor beauty. This activity not only deepens one's appreciation for meticulously designed landscapes but also hones precision and focus, as golfers learn to master strokes, understand course topography, and gauge environmental factors like wind and terrain. The experience begins with the golfer equipping themselves with essential gear such as clubs, balls, and tees, embarking on courses that range from lush greens to challenging sand traps and water hazards. These tools are indispensable for executing a variety of shots, allowing golfers to navigate through courses while aiming to minimize their strokes. Moreover, observation plays a crucial role in golfing; the ability to read greens and anticipate ball paths can significantly influence gameplay. The practice also involves keeping score, often in a digital app or scorecard, which adds a competitive element and enables tracking of progress and skill improvement. This aspect of golfing underscores its appeal beyond leisure, highlighting its capacity for personal challenge and mental discipline. Through these endeavors, golfing fosters a connection with the outdoors, encourages sportsmanship, and provides insights into personal strategy and resilience. As such, it serves as a multifaceted activity that combines relaxation with challenge and personal development.\"\n",
    "\n",
    "corpus = [doc1, doc2, doc3]"
   ]
  },
  {
   "cell_type": "code",
   "execution_count": 6,
   "metadata": {},
   "outputs": [
    {
     "name": "stdout",
     "output_type": "stream",
     "text": [
      "\n",
      "Tokenized Documents:\n",
      "Document 1 Tokens: ['Birdwatching', 'study', ',', 'is', 'a', 'serene', 'and', 'educational', 'hobby', ',', 'which', 'has', 'captivated', 'enthusiasts', 'worldwide', 'by', 'offering', 'an', 'intimate', 'glimpse', 'into', 'the', 'avian', 'world', '.', 'This', 'activity', 'not', 'only', 'deepens', 'one', '’', 's', 'appreciation', 'for', 'nature', '’', 's', 'diversity', 'but', 'also', 'enhances', 'observational', 'skills', ',', 'as', 'birdwatchers', 'learn', 'to', 'identify', 'species', 'by', 'their', 'plumage', ',', 'calls', ',', 'and', 'behavior', '.', 'The', 'process', 'begins', 'with', 'the', 'birdwatcher', 'positioning', 'themselves', 'in', 'habitats', 'ranging', 'from', 'dense', 'forests', 'to', 'urban', 'parks', ',', 'armed', 'with', 'essential', 'tools', 'such', 'as', 'binoculars', 'and', 'field', 'guides', '.', 'These', 'guides', 'are', 'invaluable', 'for', 'distinguishing', 'between', 'species', ',', 'noting', 'characteristics', 'such', 'as', 'color', 'patterns', ',', 'sizes', ',', 'and', 'distinctive', 'markings', '.', 'Additionally', ',', 'listening', 'plays', 'a', 'crucial', 'role', 'in', 'birdwatching', ';', 'the', 'ability', 'to', 'recognize', 'birdsongs', 'and', 'calls', 'can', 'reveal', 'the', 'presence', 'of', 'species', 'hidden', 'from', 'view', '.', 'The', 'practice', 'also', 'involves', 'recording', 'observations', ',', 'often', 'in', 'a', 'journal', 'or', 'a', 'digital', 'app', ',', 'which', 'contributes', 'to', 'citizen', 'science', 'by', 'providing', 'data', 'on', 'bird', 'populations', 'and', 'migration', 'patterns', '.', 'This', 'aspect', 'of', 'birdwatching', 'underscores', 'its', 'significance', 'beyond', 'recreation', ',', 'highlighting', 'its', 'contribution', 'to', 'conservation', 'efforts', '.', 'Through', 'these', 'endeavors', ',', 'birdwatching', 'fosters', 'a', 'connection', 'with', 'nature', ',', 'encourages', 'environmental', 'stewardship', ',', 'and', 'provides', 'insights', 'into', 'the', 'ecological', 'roles', 'of', 'birds', 'within', 'their', 'habitats', '.', 'As', 'such', ',', 'it', 'serves', 'as', 'a', 'multifaceted', 'activity', 'that', 'combines', 'leisure', 'with', 'learning', 'and', 'conservation', '.'] ... (Total: 231 )\n",
      "\n",
      "Document 2 Tokens: ['Spelunking', ',', 'an', 'adventurous', 'and', 'enlightening', 'hobby', ',', 'has', 'attracted', 'enthusiasts', 'worldwide', 'with', 'its', 'thrilling', 'exploration', 'of', 'the', 'subterranean', 'world', '.', 'This', 'activity', 'not', 'only', 'heightens', 'one', \"'s\", 'appreciation', 'for', 'the', 'planet', \"'s\", 'underground', 'beauty', 'but', 'also', 'sharpens', 'exploratory', 'skills', ',', 'as', 'spelunkers', 'learn', 'to', 'navigate', 'through', 'caves', ',', 'recognizing', 'formations', 'like', 'stalactites', ',', 'stalagmites', ',', 'and', 'mineral', 'deposits', '.', 'The', 'journey', 'begins', 'with', 'the', 'spelunker', 'equipping', 'themselves', 'with', 'essential', 'gear', 'such', 'as', 'helmets', ',', 'headlamps', ',', 'and', 'protective', 'clothing', ',', 'venturing', 'into', 'environments', 'ranging', 'from', 'vast', 'cave', 'systems', 'to', 'narrow', 'underground', 'passages', '.', 'These', 'tools', 'are', 'crucial', 'for', 'safe', 'navigation', 'and', 'observation', 'of', 'geological', 'features', ',', 'enabling', 'spelunkers', 'to', 'identify', 'and', 'appreciate', 'the', 'unique', 'characteristics', 'of', 'each', 'cave', '.', 'Moreover', ',', 'listening', 'plays', 'a', 'pivotal', 'role', 'in', 'spelunking', ';', 'the', 'sounds', 'of', 'dripping', 'water', 'or', 'the', 'echo', 'of', 'a', 'chamber', 'can', 'enhance', 'the', 'sensory', 'experience', '.', 'The', 'practice', 'also', 'includes', 'documenting', 'discoveries', ',', 'often', 'in', 'a', 'journal', 'or', 'digital', 'format', ',', 'contributing', 'to', 'scientific', 'knowledge', 'by', 'providing', 'data', 'on', 'geology', ',', 'hydrology', ',', 'and', 'cave', 'biology', '.', 'This', 'aspect', 'of', 'spelunking', 'emphasizes', 'its', 'value', 'beyond', 'adventure', ',', 'highlighting', 'its', 'contribution', 'to', 'scientific', 'understanding', 'and', 'conservation', '.', 'Through', 'these', 'pursuits', ',', 'spelunking', 'fosters', 'a', 'connection', 'with', 'the', 'earth', \"'s\", 'hidden', 'landscapes', ',', 'promotes', 'environmental', 'awareness', ',', 'and', 'provides', 'insights', 'into', 'the', 'geological', 'processes', 'that', 'shape', 'our', 'world', '.', 'As', 'such', ',', 'it', 'serves', 'as', 'a', 'multifaceted', 'activity', 'that', 'blends', 'excitement', 'with', 'education', 'and', 'environmental', 'stewardship', '.'] ... (Total: 246 )\n",
      "\n",
      "Document 3 Tokens: ['Golfing', ',', 'a', 'refined', 'and', 'strategic', 'hobby', ',', 'has', 'enchanted', 'enthusiasts', 'worldwide', 'with', 'its', 'blend', 'of', 'skill', ',', 'patience', ',', 'and', 'outdoor', 'beauty', '.', 'This', 'activity', 'not', 'only', 'deepens', 'one', \"'s\", 'appreciation', 'for', 'meticulously', 'designed', 'landscapes', 'but', 'also', 'hones', 'precision', 'and', 'focus', ',', 'as', 'golfers', 'learn', 'to', 'master', 'strokes', ',', 'understand', 'course', 'topography', ',', 'and', 'gauge', 'environmental', 'factors', 'like', 'wind', 'and', 'terrain', '.', 'The', 'experience', 'begins', 'with', 'the', 'golfer', 'equipping', 'themselves', 'with', 'essential', 'gear', 'such', 'as', 'clubs', ',', 'balls', ',', 'and', 'tees', ',', 'embarking', 'on', 'courses', 'that', 'range', 'from', 'lush', 'greens', 'to', 'challenging', 'sand', 'traps', 'and', 'water', 'hazards', '.', 'These', 'tools', 'are', 'indispensable', 'for', 'executing', 'a', 'variety', 'of', 'shots', ',', 'allowing', 'golfers', 'to', 'navigate', 'through', 'courses', 'while', 'aiming', 'to', 'minimize', 'their', 'strokes', '.', 'Moreover', ',', 'observation', 'plays', 'a', 'crucial', 'role', 'in', 'golfing', ';', 'the', 'ability', 'to', 'read', 'greens', 'and', 'anticipate', 'ball', 'paths', 'can', 'significantly', 'influence', 'gameplay', '.', 'The', 'practice', 'also', 'involves', 'keeping', 'score', ',', 'often', 'in', 'a', 'digital', 'app', 'or', 'scorecard', ',', 'which', 'adds', 'a', 'competitive', 'element', 'and', 'enables', 'tracking', 'of', 'progress', 'and', 'skill', 'improvement', '.', 'This', 'aspect', 'of', 'golfing', 'underscores', 'its', 'appeal', 'beyond', 'leisure', ',', 'highlighting', 'its', 'capacity', 'for', 'personal', 'challenge', 'and', 'mental', 'discipline', '.', 'Through', 'these', 'endeavors', ',', 'golfing', 'fosters', 'a', 'connection', 'with', 'the', 'outdoors', ',', 'encourages', 'sportsmanship', ',', 'and', 'provides', 'insights', 'into', 'personal', 'strategy', 'and', 'resilience', '.', 'As', 'such', ',', 'it', 'serves', 'as', 'a', 'multifaceted', 'activity', 'that', 'combines', 'relaxation', 'with', 'challenge', 'and', 'personal', 'development', '.'] ... (Total: 238 )\n",
      "\n"
     ]
    }
   ],
   "source": [
    "#tokenization\n",
    "from nltk.tokenize import word_tokenize\n",
    "tokenized_docs = []\n",
    "for doc in corpus:\n",
    "  tokens = word_tokenize(doc)\n",
    "  tokenized_docs.append(tokens)\n",
    "\n",
    "#printing the all the tokens for all documents and the token lengths for each document    \n",
    "print(\"\\nTokenized Documents:\")\n",
    "for i, doc in enumerate(tokenized_docs):\n",
    "  print(f\"Document {i+1} Tokens:\", doc[:], \"... (Total:\", len(doc), \")\")\n",
    "  print()  # Add an empty print statement for a new line"
   ]
  },
  {
   "cell_type": "code",
   "execution_count": 7,
   "metadata": {},
   "outputs": [
    {
     "name": "stdout",
     "output_type": "stream",
     "text": [
      "\n",
      "Tokenized and Lowercased Documents:\n",
      "Document 1 Tokens: ['birdwatching', 'study', ',', 'is', 'a', 'serene', 'and', 'educational', 'hobby', ',', 'which', 'has', 'captivated', 'enthusiasts', 'worldwide', 'by', 'offering', 'an', 'intimate', 'glimpse', 'into', 'the', 'avian', 'world', '.', 'this', 'activity', 'not', 'only', 'deepens', 'one', '’', 's', 'appreciation', 'for', 'nature', '’', 's', 'diversity', 'but', 'also', 'enhances', 'observational', 'skills', ',', 'as', 'birdwatchers', 'learn', 'to', 'identify', 'species', 'by', 'their', 'plumage', ',', 'calls', ',', 'and', 'behavior', '.', 'the', 'process', 'begins', 'with', 'the', 'birdwatcher', 'positioning', 'themselves', 'in', 'habitats', 'ranging', 'from', 'dense', 'forests', 'to', 'urban', 'parks', ',', 'armed', 'with', 'essential', 'tools', 'such', 'as', 'binoculars', 'and', 'field', 'guides', '.', 'these', 'guides', 'are', 'invaluable', 'for', 'distinguishing', 'between', 'species', ',', 'noting', 'characteristics', 'such', 'as', 'color', 'patterns', ',', 'sizes', ',', 'and', 'distinctive', 'markings', '.', 'additionally', ',', 'listening', 'plays', 'a', 'crucial', 'role', 'in', 'birdwatching', ';', 'the', 'ability', 'to', 'recognize', 'birdsongs', 'and', 'calls', 'can', 'reveal', 'the', 'presence', 'of', 'species', 'hidden', 'from', 'view', '.', 'the', 'practice', 'also', 'involves', 'recording', 'observations', ',', 'often', 'in', 'a', 'journal', 'or', 'a', 'digital', 'app', ',', 'which', 'contributes', 'to', 'citizen', 'science', 'by', 'providing', 'data', 'on', 'bird', 'populations', 'and', 'migration', 'patterns', '.', 'this', 'aspect', 'of', 'birdwatching', 'underscores', 'its', 'significance', 'beyond', 'recreation', ',', 'highlighting', 'its', 'contribution', 'to', 'conservation', 'efforts', '.', 'through', 'these', 'endeavors', ',', 'birdwatching', 'fosters', 'a', 'connection', 'with', 'nature', ',', 'encourages', 'environmental', 'stewardship', ',', 'and', 'provides', 'insights', 'into', 'the', 'ecological', 'roles', 'of', 'birds', 'within', 'their', 'habitats', '.', 'as', 'such', ',', 'it', 'serves', 'as', 'a', 'multifaceted', 'activity', 'that', 'combines', 'leisure', 'with', 'learning', 'and', 'conservation', '.'] ... (Total: 231 )\n",
      "\n",
      "Document 2 Tokens: ['spelunking', ',', 'an', 'adventurous', 'and', 'enlightening', 'hobby', ',', 'has', 'attracted', 'enthusiasts', 'worldwide', 'with', 'its', 'thrilling', 'exploration', 'of', 'the', 'subterranean', 'world', '.', 'this', 'activity', 'not', 'only', 'heightens', 'one', \"'s\", 'appreciation', 'for', 'the', 'planet', \"'s\", 'underground', 'beauty', 'but', 'also', 'sharpens', 'exploratory', 'skills', ',', 'as', 'spelunkers', 'learn', 'to', 'navigate', 'through', 'caves', ',', 'recognizing', 'formations', 'like', 'stalactites', ',', 'stalagmites', ',', 'and', 'mineral', 'deposits', '.', 'the', 'journey', 'begins', 'with', 'the', 'spelunker', 'equipping', 'themselves', 'with', 'essential', 'gear', 'such', 'as', 'helmets', ',', 'headlamps', ',', 'and', 'protective', 'clothing', ',', 'venturing', 'into', 'environments', 'ranging', 'from', 'vast', 'cave', 'systems', 'to', 'narrow', 'underground', 'passages', '.', 'these', 'tools', 'are', 'crucial', 'for', 'safe', 'navigation', 'and', 'observation', 'of', 'geological', 'features', ',', 'enabling', 'spelunkers', 'to', 'identify', 'and', 'appreciate', 'the', 'unique', 'characteristics', 'of', 'each', 'cave', '.', 'moreover', ',', 'listening', 'plays', 'a', 'pivotal', 'role', 'in', 'spelunking', ';', 'the', 'sounds', 'of', 'dripping', 'water', 'or', 'the', 'echo', 'of', 'a', 'chamber', 'can', 'enhance', 'the', 'sensory', 'experience', '.', 'the', 'practice', 'also', 'includes', 'documenting', 'discoveries', ',', 'often', 'in', 'a', 'journal', 'or', 'digital', 'format', ',', 'contributing', 'to', 'scientific', 'knowledge', 'by', 'providing', 'data', 'on', 'geology', ',', 'hydrology', ',', 'and', 'cave', 'biology', '.', 'this', 'aspect', 'of', 'spelunking', 'emphasizes', 'its', 'value', 'beyond', 'adventure', ',', 'highlighting', 'its', 'contribution', 'to', 'scientific', 'understanding', 'and', 'conservation', '.', 'through', 'these', 'pursuits', ',', 'spelunking', 'fosters', 'a', 'connection', 'with', 'the', 'earth', \"'s\", 'hidden', 'landscapes', ',', 'promotes', 'environmental', 'awareness', ',', 'and', 'provides', 'insights', 'into', 'the', 'geological', 'processes', 'that', 'shape', 'our', 'world', '.', 'as', 'such', ',', 'it', 'serves', 'as', 'a', 'multifaceted', 'activity', 'that', 'blends', 'excitement', 'with', 'education', 'and', 'environmental', 'stewardship', '.'] ... (Total: 246 )\n",
      "\n",
      "Document 3 Tokens: ['golfing', ',', 'a', 'refined', 'and', 'strategic', 'hobby', ',', 'has', 'enchanted', 'enthusiasts', 'worldwide', 'with', 'its', 'blend', 'of', 'skill', ',', 'patience', ',', 'and', 'outdoor', 'beauty', '.', 'this', 'activity', 'not', 'only', 'deepens', 'one', \"'s\", 'appreciation', 'for', 'meticulously', 'designed', 'landscapes', 'but', 'also', 'hones', 'precision', 'and', 'focus', ',', 'as', 'golfers', 'learn', 'to', 'master', 'strokes', ',', 'understand', 'course', 'topography', ',', 'and', 'gauge', 'environmental', 'factors', 'like', 'wind', 'and', 'terrain', '.', 'the', 'experience', 'begins', 'with', 'the', 'golfer', 'equipping', 'themselves', 'with', 'essential', 'gear', 'such', 'as', 'clubs', ',', 'balls', ',', 'and', 'tees', ',', 'embarking', 'on', 'courses', 'that', 'range', 'from', 'lush', 'greens', 'to', 'challenging', 'sand', 'traps', 'and', 'water', 'hazards', '.', 'these', 'tools', 'are', 'indispensable', 'for', 'executing', 'a', 'variety', 'of', 'shots', ',', 'allowing', 'golfers', 'to', 'navigate', 'through', 'courses', 'while', 'aiming', 'to', 'minimize', 'their', 'strokes', '.', 'moreover', ',', 'observation', 'plays', 'a', 'crucial', 'role', 'in', 'golfing', ';', 'the', 'ability', 'to', 'read', 'greens', 'and', 'anticipate', 'ball', 'paths', 'can', 'significantly', 'influence', 'gameplay', '.', 'the', 'practice', 'also', 'involves', 'keeping', 'score', ',', 'often', 'in', 'a', 'digital', 'app', 'or', 'scorecard', ',', 'which', 'adds', 'a', 'competitive', 'element', 'and', 'enables', 'tracking', 'of', 'progress', 'and', 'skill', 'improvement', '.', 'this', 'aspect', 'of', 'golfing', 'underscores', 'its', 'appeal', 'beyond', 'leisure', ',', 'highlighting', 'its', 'capacity', 'for', 'personal', 'challenge', 'and', 'mental', 'discipline', '.', 'through', 'these', 'endeavors', ',', 'golfing', 'fosters', 'a', 'connection', 'with', 'the', 'outdoors', ',', 'encourages', 'sportsmanship', ',', 'and', 'provides', 'insights', 'into', 'personal', 'strategy', 'and', 'resilience', '.', 'as', 'such', ',', 'it', 'serves', 'as', 'a', 'multifaceted', 'activity', 'that', 'combines', 'relaxation', 'with', 'challenge', 'and', 'personal', 'development', '.'] ... (Total: 238 )\n",
      "\n"
     ]
    }
   ],
   "source": [
    "# Convert tokens to lowercase\n",
    "lowercased_docs = []\n",
    "for tokens in tokenized_docs:\n",
    "    lowercased_tokens = [token.lower() for token in tokens]\n",
    "    lowercased_docs.append(lowercased_tokens)\n",
    "\n",
    "# Print the tokenized and lowercased documents\n",
    "print(\"\\nTokenized and Lowercased Documents:\")\n",
    "for i, doc in enumerate(lowercased_docs):\n",
    "    print(f\"Document {i+1} Tokens:\", doc, \"... (Total:\", len(doc), \")\\n\")"
   ]
  },
  {
   "cell_type": "code",
   "execution_count": 8,
   "metadata": {},
   "outputs": [
    {
     "name": "stdout",
     "output_type": "stream",
     "text": [
      "\n",
      "Documents with Tokens Lowercased and Punctuation Removed:\n",
      "Document 1 Tokens: ['birdwatching', 'study', 'is', 'a', 'serene', 'and', 'educational', 'hobby', 'which', 'has', 'captivated', 'enthusiasts', 'worldwide', 'by', 'offering', 'an', 'intimate', 'glimpse', 'into', 'the', 'avian', 'world', 'this', 'activity', 'not', 'only', 'deepens', 'one', 's', 'appreciation', 'for', 'nature', 's', 'diversity', 'but', 'also', 'enhances', 'observational', 'skills', 'as', 'birdwatchers', 'learn', 'to', 'identify', 'species', 'by', 'their', 'plumage', 'calls', 'and', 'behavior', 'the', 'process', 'begins', 'with', 'the', 'birdwatcher', 'positioning', 'themselves', 'in', 'habitats', 'ranging', 'from', 'dense', 'forests', 'to', 'urban', 'parks', 'armed', 'with', 'essential', 'tools', 'such', 'as', 'binoculars', 'and', 'field', 'guides', 'these', 'guides', 'are', 'invaluable', 'for', 'distinguishing', 'between', 'species', 'noting', 'characteristics', 'such', 'as', 'color', 'patterns', 'sizes', 'and', 'distinctive', 'markings', 'additionally', 'listening', 'plays', 'a', 'crucial', 'role', 'in', 'birdwatching', 'the', 'ability', 'to', 'recognize', 'birdsongs', 'and', 'calls', 'can', 'reveal', 'the', 'presence', 'of', 'species', 'hidden', 'from', 'view', 'the', 'practice', 'also', 'involves', 'recording', 'observations', 'often', 'in', 'a', 'journal', 'or', 'a', 'digital', 'app', 'which', 'contributes', 'to', 'citizen', 'science', 'by', 'providing', 'data', 'on', 'bird', 'populations', 'and', 'migration', 'patterns', 'this', 'aspect', 'of', 'birdwatching', 'underscores', 'its', 'significance', 'beyond', 'recreation', 'highlighting', 'its', 'contribution', 'to', 'conservation', 'efforts', 'through', 'these', 'endeavors', 'birdwatching', 'fosters', 'a', 'connection', 'with', 'nature', 'encourages', 'environmental', 'stewardship', 'and', 'provides', 'insights', 'into', 'the', 'ecological', 'roles', 'of', 'birds', 'within', 'their', 'habitats', 'as', 'such', 'it', 'serves', 'as', 'a', 'multifaceted', 'activity', 'that', 'combines', 'leisure', 'with', 'learning', 'and', 'conservation'] ... (Total: 202 )\n",
      "\n",
      "Document 2 Tokens: ['spelunking', 'an', 'adventurous', 'and', 'enlightening', 'hobby', 'has', 'attracted', 'enthusiasts', 'worldwide', 'with', 'its', 'thrilling', 'exploration', 'of', 'the', 'subterranean', 'world', 'this', 'activity', 'not', 'only', 'heightens', 'one', 'appreciation', 'for', 'the', 'planet', 'underground', 'beauty', 'but', 'also', 'sharpens', 'exploratory', 'skills', 'as', 'spelunkers', 'learn', 'to', 'navigate', 'through', 'caves', 'recognizing', 'formations', 'like', 'stalactites', 'stalagmites', 'and', 'mineral', 'deposits', 'the', 'journey', 'begins', 'with', 'the', 'spelunker', 'equipping', 'themselves', 'with', 'essential', 'gear', 'such', 'as', 'helmets', 'headlamps', 'and', 'protective', 'clothing', 'venturing', 'into', 'environments', 'ranging', 'from', 'vast', 'cave', 'systems', 'to', 'narrow', 'underground', 'passages', 'these', 'tools', 'are', 'crucial', 'for', 'safe', 'navigation', 'and', 'observation', 'of', 'geological', 'features', 'enabling', 'spelunkers', 'to', 'identify', 'and', 'appreciate', 'the', 'unique', 'characteristics', 'of', 'each', 'cave', 'moreover', 'listening', 'plays', 'a', 'pivotal', 'role', 'in', 'spelunking', 'the', 'sounds', 'of', 'dripping', 'water', 'or', 'the', 'echo', 'of', 'a', 'chamber', 'can', 'enhance', 'the', 'sensory', 'experience', 'the', 'practice', 'also', 'includes', 'documenting', 'discoveries', 'often', 'in', 'a', 'journal', 'or', 'digital', 'format', 'contributing', 'to', 'scientific', 'knowledge', 'by', 'providing', 'data', 'on', 'geology', 'hydrology', 'and', 'cave', 'biology', 'this', 'aspect', 'of', 'spelunking', 'emphasizes', 'its', 'value', 'beyond', 'adventure', 'highlighting', 'its', 'contribution', 'to', 'scientific', 'understanding', 'and', 'conservation', 'through', 'these', 'pursuits', 'spelunking', 'fosters', 'a', 'connection', 'with', 'the', 'earth', 'hidden', 'landscapes', 'promotes', 'environmental', 'awareness', 'and', 'provides', 'insights', 'into', 'the', 'geological', 'processes', 'that', 'shape', 'our', 'world', 'as', 'such', 'it', 'serves', 'as', 'a', 'multifaceted', 'activity', 'that', 'blends', 'excitement', 'with', 'education', 'and', 'environmental', 'stewardship'] ... (Total: 213 )\n",
      "\n",
      "Document 3 Tokens: ['golfing', 'a', 'refined', 'and', 'strategic', 'hobby', 'has', 'enchanted', 'enthusiasts', 'worldwide', 'with', 'its', 'blend', 'of', 'skill', 'patience', 'and', 'outdoor', 'beauty', 'this', 'activity', 'not', 'only', 'deepens', 'one', 'appreciation', 'for', 'meticulously', 'designed', 'landscapes', 'but', 'also', 'hones', 'precision', 'and', 'focus', 'as', 'golfers', 'learn', 'to', 'master', 'strokes', 'understand', 'course', 'topography', 'and', 'gauge', 'environmental', 'factors', 'like', 'wind', 'and', 'terrain', 'the', 'experience', 'begins', 'with', 'the', 'golfer', 'equipping', 'themselves', 'with', 'essential', 'gear', 'such', 'as', 'clubs', 'balls', 'and', 'tees', 'embarking', 'on', 'courses', 'that', 'range', 'from', 'lush', 'greens', 'to', 'challenging', 'sand', 'traps', 'and', 'water', 'hazards', 'these', 'tools', 'are', 'indispensable', 'for', 'executing', 'a', 'variety', 'of', 'shots', 'allowing', 'golfers', 'to', 'navigate', 'through', 'courses', 'while', 'aiming', 'to', 'minimize', 'their', 'strokes', 'moreover', 'observation', 'plays', 'a', 'crucial', 'role', 'in', 'golfing', 'the', 'ability', 'to', 'read', 'greens', 'and', 'anticipate', 'ball', 'paths', 'can', 'significantly', 'influence', 'gameplay', 'the', 'practice', 'also', 'involves', 'keeping', 'score', 'often', 'in', 'a', 'digital', 'app', 'or', 'scorecard', 'which', 'adds', 'a', 'competitive', 'element', 'and', 'enables', 'tracking', 'of', 'progress', 'and', 'skill', 'improvement', 'this', 'aspect', 'of', 'golfing', 'underscores', 'its', 'appeal', 'beyond', 'leisure', 'highlighting', 'its', 'capacity', 'for', 'personal', 'challenge', 'and', 'mental', 'discipline', 'through', 'these', 'endeavors', 'golfing', 'fosters', 'a', 'connection', 'with', 'the', 'outdoors', 'encourages', 'sportsmanship', 'and', 'provides', 'insights', 'into', 'personal', 'strategy', 'and', 'resilience', 'as', 'such', 'it', 'serves', 'as', 'a', 'multifaceted', 'activity', 'that', 'combines', 'relaxation', 'with', 'challenge', 'and', 'personal', 'development'] ... (Total: 208 )\n",
      "\n"
     ]
    }
   ],
   "source": [
    "# import string\n",
    "\n",
    "# Remove punctuation\n",
    "no_punctuation_docs = []\n",
    "for tokens in lowercased_docs:\n",
    "    filtered_tokens = [token for token in tokens if token.isalpha()]  # Remove punctuation\n",
    "    no_punctuation_docs.append(filtered_tokens)\n",
    "\n",
    "# Print the documents without punctuation, along with their token counts\n",
    "print(\"\\nDocuments with Tokens Lowercased and Punctuation Removed:\")\n",
    "for i, doc in enumerate(no_punctuation_docs):\n",
    "    print(f\"Document {i+1} Tokens:\", doc, \"... (Total:\", len(doc), \")\\n\")"
   ]
  },
  {
   "cell_type": "code",
   "execution_count": 11,
   "metadata": {},
   "outputs": [
    {
     "name": "stdout",
     "output_type": "stream",
     "text": [
      "\n",
      "Documents with Tokens Lowercased, Punctuation Removed, and Stopwords Removed:\n",
      "Document 1 Tokens: ['birdwatching', 'study', 'serene', 'educational', 'hobby', 'captivated', 'enthusiasts', 'worldwide', 'offering', 'intimate', 'glimpse', 'avian', 'world', 'activity', 'deepens', 'one', 'appreciation', 'nature', 'diversity', 'also', 'enhances', 'observational', 'skills', 'birdwatchers', 'learn', 'identify', 'species', 'plumage', 'calls', 'behavior', 'process', 'begins', 'birdwatcher', 'positioning', 'habitats', 'ranging', 'dense', 'forests', 'urban', 'parks', 'armed', 'essential', 'tools', 'binoculars', 'field', 'guides', 'guides', 'invaluable', 'distinguishing', 'species', 'noting', 'characteristics', 'color', 'patterns', 'sizes', 'distinctive', 'markings', 'additionally', 'listening', 'plays', 'crucial', 'role', 'birdwatching', 'ability', 'recognize', 'birdsongs', 'calls', 'reveal', 'presence', 'species', 'hidden', 'view', 'practice', 'also', 'involves', 'recording', 'observations', 'often', 'journal', 'digital', 'app', 'contributes', 'citizen', 'science', 'providing', 'data', 'bird', 'populations', 'migration', 'patterns', 'aspect', 'birdwatching', 'underscores', 'significance', 'beyond', 'recreation', 'highlighting', 'contribution', 'conservation', 'efforts', 'endeavors', 'birdwatching', 'fosters', 'connection', 'nature', 'encourages', 'environmental', 'stewardship', 'provides', 'insights', 'ecological', 'roles', 'birds', 'within', 'habitats', 'serves', 'multifaceted', 'activity', 'combines', 'leisure', 'learning', 'conservation'] ... (Total: 122 )\n",
      "\n",
      "Document 2 Tokens: ['spelunking', 'adventurous', 'enlightening', 'hobby', 'attracted', 'enthusiasts', 'worldwide', 'thrilling', 'exploration', 'subterranean', 'world', 'activity', 'heightens', 'one', 'appreciation', 'planet', 'underground', 'beauty', 'also', 'sharpens', 'exploratory', 'skills', 'spelunkers', 'learn', 'navigate', 'caves', 'recognizing', 'formations', 'like', 'stalactites', 'stalagmites', 'mineral', 'deposits', 'journey', 'begins', 'spelunker', 'equipping', 'essential', 'gear', 'helmets', 'headlamps', 'protective', 'clothing', 'venturing', 'environments', 'ranging', 'vast', 'cave', 'systems', 'narrow', 'underground', 'passages', 'tools', 'crucial', 'safe', 'navigation', 'observation', 'geological', 'features', 'enabling', 'spelunkers', 'identify', 'appreciate', 'unique', 'characteristics', 'cave', 'moreover', 'listening', 'plays', 'pivotal', 'role', 'spelunking', 'sounds', 'dripping', 'water', 'echo', 'chamber', 'enhance', 'sensory', 'experience', 'practice', 'also', 'includes', 'documenting', 'discoveries', 'often', 'journal', 'digital', 'format', 'contributing', 'scientific', 'knowledge', 'providing', 'data', 'geology', 'hydrology', 'cave', 'biology', 'aspect', 'spelunking', 'emphasizes', 'value', 'beyond', 'adventure', 'highlighting', 'contribution', 'scientific', 'understanding', 'conservation', 'pursuits', 'spelunking', 'fosters', 'connection', 'earth', 'hidden', 'landscapes', 'promotes', 'environmental', 'awareness', 'provides', 'insights', 'geological', 'processes', 'shape', 'world', 'serves', 'multifaceted', 'activity', 'blends', 'excitement', 'education', 'environmental', 'stewardship'] ... (Total: 133 )\n",
      "\n",
      "Document 3 Tokens: ['golfing', 'refined', 'strategic', 'hobby', 'enchanted', 'enthusiasts', 'worldwide', 'blend', 'skill', 'patience', 'outdoor', 'beauty', 'activity', 'deepens', 'one', 'appreciation', 'meticulously', 'designed', 'landscapes', 'also', 'hones', 'precision', 'focus', 'golfers', 'learn', 'master', 'strokes', 'understand', 'course', 'topography', 'gauge', 'environmental', 'factors', 'like', 'wind', 'terrain', 'experience', 'begins', 'golfer', 'equipping', 'essential', 'gear', 'clubs', 'balls', 'tees', 'embarking', 'courses', 'range', 'lush', 'greens', 'challenging', 'sand', 'traps', 'water', 'hazards', 'tools', 'indispensable', 'executing', 'variety', 'shots', 'allowing', 'golfers', 'navigate', 'courses', 'aiming', 'minimize', 'strokes', 'moreover', 'observation', 'plays', 'crucial', 'role', 'golfing', 'ability', 'read', 'greens', 'anticipate', 'ball', 'paths', 'significantly', 'influence', 'gameplay', 'practice', 'also', 'involves', 'keeping', 'score', 'often', 'digital', 'app', 'scorecard', 'adds', 'competitive', 'element', 'enables', 'tracking', 'progress', 'skill', 'improvement', 'aspect', 'golfing', 'underscores', 'appeal', 'beyond', 'leisure', 'highlighting', 'capacity', 'personal', 'challenge', 'mental', 'discipline', 'endeavors', 'golfing', 'fosters', 'connection', 'outdoors', 'encourages', 'sportsmanship', 'provides', 'insights', 'personal', 'strategy', 'resilience', 'serves', 'multifaceted', 'activity', 'combines', 'relaxation', 'challenge', 'personal', 'development'] ... (Total: 131 )\n",
      "\n"
     ]
    }
   ],
   "source": [
    "# Stop Words Removal\n",
    "from nltk.corpus import stopwords\n",
    "# Get the English stopwords\n",
    "stop_words = set(stopwords.words('english'))\n",
    "\n",
    "# Remove stopwords\n",
    "no_stopwords_docs = []\n",
    "for tokens in no_punctuation_docs:\n",
    "    filtered_tokens = [token for token in tokens if token not in stop_words]\n",
    "    no_stopwords_docs.append(filtered_tokens)\n",
    "\n",
    "# Print the documents without stopwords, along with their token counts\n",
    "print(\"\\nDocuments with Tokens Lowercased, Punctuation Removed, and Stopwords Removed:\")\n",
    "for i, doc in enumerate(no_stopwords_docs):\n",
    "    print(f\"Document {i+1} Tokens:\", doc, \"... (Total:\", len(doc), \")\\n\")"
   ]
  },
  {
   "cell_type": "code",
   "execution_count": 12,
   "metadata": {},
   "outputs": [
    {
     "name": "stdout",
     "output_type": "stream",
     "text": [
      "\n",
      "Documents with Tokens Lowercased, Punctuation Removed, and Stopwords Including 'also' Removed:\n",
      "Document 1 Tokens: ['birdwatching', 'study', 'serene', 'educational', 'hobby', 'captivated', 'enthusiasts', 'worldwide', 'offering', 'intimate', 'glimpse', 'avian', 'world', 'activity', 'deepens', 'one', 'appreciation', 'nature', 'diversity', 'enhances', 'observational', 'skills', 'birdwatchers', 'learn', 'identify', 'species', 'plumage', 'calls', 'behavior', 'process', 'begins', 'birdwatcher', 'positioning', 'habitats', 'ranging', 'dense', 'forests', 'urban', 'parks', 'armed', 'essential', 'tools', 'binoculars', 'field', 'guides', 'guides', 'invaluable', 'distinguishing', 'species', 'noting', 'characteristics', 'color', 'patterns', 'sizes', 'distinctive', 'markings', 'additionally', 'listening', 'plays', 'crucial', 'role', 'birdwatching', 'ability', 'recognize', 'birdsongs', 'calls', 'reveal', 'presence', 'species', 'hidden', 'view', 'practice', 'involves', 'recording', 'observations', 'often', 'journal', 'digital', 'app', 'contributes', 'citizen', 'science', 'providing', 'data', 'bird', 'populations', 'migration', 'patterns', 'aspect', 'birdwatching', 'underscores', 'significance', 'beyond', 'recreation', 'highlighting', 'contribution', 'conservation', 'efforts', 'endeavors', 'birdwatching', 'fosters', 'connection', 'nature', 'encourages', 'environmental', 'stewardship', 'provides', 'insights', 'ecological', 'roles', 'birds', 'within', 'habitats', 'serves', 'multifaceted', 'activity', 'combines', 'leisure', 'learning', 'conservation'] ... (Total: 120 )\n",
      "\n",
      "Document 2 Tokens: ['spelunking', 'adventurous', 'enlightening', 'hobby', 'attracted', 'enthusiasts', 'worldwide', 'thrilling', 'exploration', 'subterranean', 'world', 'activity', 'heightens', 'one', 'appreciation', 'planet', 'underground', 'beauty', 'sharpens', 'exploratory', 'skills', 'spelunkers', 'learn', 'navigate', 'caves', 'recognizing', 'formations', 'like', 'stalactites', 'stalagmites', 'mineral', 'deposits', 'journey', 'begins', 'spelunker', 'equipping', 'essential', 'gear', 'helmets', 'headlamps', 'protective', 'clothing', 'venturing', 'environments', 'ranging', 'vast', 'cave', 'systems', 'narrow', 'underground', 'passages', 'tools', 'crucial', 'safe', 'navigation', 'observation', 'geological', 'features', 'enabling', 'spelunkers', 'identify', 'appreciate', 'unique', 'characteristics', 'cave', 'moreover', 'listening', 'plays', 'pivotal', 'role', 'spelunking', 'sounds', 'dripping', 'water', 'echo', 'chamber', 'enhance', 'sensory', 'experience', 'practice', 'includes', 'documenting', 'discoveries', 'often', 'journal', 'digital', 'format', 'contributing', 'scientific', 'knowledge', 'providing', 'data', 'geology', 'hydrology', 'cave', 'biology', 'aspect', 'spelunking', 'emphasizes', 'value', 'beyond', 'adventure', 'highlighting', 'contribution', 'scientific', 'understanding', 'conservation', 'pursuits', 'spelunking', 'fosters', 'connection', 'earth', 'hidden', 'landscapes', 'promotes', 'environmental', 'awareness', 'provides', 'insights', 'geological', 'processes', 'shape', 'world', 'serves', 'multifaceted', 'activity', 'blends', 'excitement', 'education', 'environmental', 'stewardship'] ... (Total: 131 )\n",
      "\n",
      "Document 3 Tokens: ['golfing', 'refined', 'strategic', 'hobby', 'enchanted', 'enthusiasts', 'worldwide', 'blend', 'skill', 'patience', 'outdoor', 'beauty', 'activity', 'deepens', 'one', 'appreciation', 'meticulously', 'designed', 'landscapes', 'hones', 'precision', 'focus', 'golfers', 'learn', 'master', 'strokes', 'understand', 'course', 'topography', 'gauge', 'environmental', 'factors', 'like', 'wind', 'terrain', 'experience', 'begins', 'golfer', 'equipping', 'essential', 'gear', 'clubs', 'balls', 'tees', 'embarking', 'courses', 'range', 'lush', 'greens', 'challenging', 'sand', 'traps', 'water', 'hazards', 'tools', 'indispensable', 'executing', 'variety', 'shots', 'allowing', 'golfers', 'navigate', 'courses', 'aiming', 'minimize', 'strokes', 'moreover', 'observation', 'plays', 'crucial', 'role', 'golfing', 'ability', 'read', 'greens', 'anticipate', 'ball', 'paths', 'significantly', 'influence', 'gameplay', 'practice', 'involves', 'keeping', 'score', 'often', 'digital', 'app', 'scorecard', 'adds', 'competitive', 'element', 'enables', 'tracking', 'progress', 'skill', 'improvement', 'aspect', 'golfing', 'underscores', 'appeal', 'beyond', 'leisure', 'highlighting', 'capacity', 'personal', 'challenge', 'mental', 'discipline', 'endeavors', 'golfing', 'fosters', 'connection', 'outdoors', 'encourages', 'sportsmanship', 'provides', 'insights', 'personal', 'strategy', 'resilience', 'serves', 'multifaceted', 'activity', 'combines', 'relaxation', 'challenge', 'personal', 'development'] ... (Total: 129 )\n",
      "\n"
     ]
    }
   ],
   "source": [
    "# Add 'also' to the set of stopwords\n",
    "stop_words.add('also')\n",
    "\n",
    "# Remove stopwords again, now including 'also'\n",
    "no_stopwords_including_also_docs = []\n",
    "for tokens in no_stopwords_docs:  # We'll start from the already stopword-removed docs\n",
    "    filtered_tokens = [token for token in tokens if token not in stop_words]\n",
    "    no_stopwords_including_also_docs.append(filtered_tokens)\n",
    "\n",
    "# Print the documents without 'also' and other stopwords, along with their token counts\n",
    "print(\"\\nDocuments with Tokens Lowercased, Punctuation Removed, and Stopwords Including 'also' Removed:\")\n",
    "for i, doc in enumerate(no_stopwords_including_also_docs):\n",
    "    print(f\"Document {i+1} Tokens:\", doc, \"... (Total:\", len(doc), \")\\n\")"
   ]
  },
  {
   "cell_type": "code",
   "execution_count": 13,
   "metadata": {},
   "outputs": [
    {
     "name": "stdout",
     "output_type": "stream",
     "text": [
      "\n",
      "Documents with Tokens Lowercased, Punctuation Removed, Stopwords Including 'also' Removed, and Stemmed:\n",
      "Document 1 Tokens: ['birdwatch', 'studi', 'seren', 'educ', 'hobbi', 'captiv', 'enthusiast', 'worldwid', 'offer', 'intim', 'glimps', 'avian', 'world', 'activ', 'deepen', 'one', 'appreci', 'natur', 'divers', 'enhanc', 'observ', 'skill', 'birdwatch', 'learn', 'identifi', 'speci', 'plumag', 'call', 'behavior', 'process', 'begin', 'birdwatch', 'posit', 'habitat', 'rang', 'dens', 'forest', 'urban', 'park', 'arm', 'essenti', 'tool', 'binocular', 'field', 'guid', 'guid', 'invalu', 'distinguish', 'speci', 'note', 'characterist', 'color', 'pattern', 'size', 'distinct', 'mark', 'addit', 'listen', 'play', 'crucial', 'role', 'birdwatch', 'abil', 'recogn', 'birdsong', 'call', 'reveal', 'presenc', 'speci', 'hidden', 'view', 'practic', 'involv', 'record', 'observ', 'often', 'journal', 'digit', 'app', 'contribut', 'citizen', 'scienc', 'provid', 'data', 'bird', 'popul', 'migrat', 'pattern', 'aspect', 'birdwatch', 'underscor', 'signific', 'beyond', 'recreat', 'highlight', 'contribut', 'conserv', 'effort', 'endeavor', 'birdwatch', 'foster', 'connect', 'natur', 'encourag', 'environment', 'stewardship', 'provid', 'insight', 'ecolog', 'role', 'bird', 'within', 'habitat', 'serv', 'multifacet', 'activ', 'combin', 'leisur', 'learn', 'conserv'] ... (Total: 120 )\n",
      "\n",
      "Document 2 Tokens: ['spelunk', 'adventur', 'enlighten', 'hobbi', 'attract', 'enthusiast', 'worldwid', 'thrill', 'explor', 'subterranean', 'world', 'activ', 'heighten', 'one', 'appreci', 'planet', 'underground', 'beauti', 'sharpen', 'exploratori', 'skill', 'spelunk', 'learn', 'navig', 'cave', 'recogn', 'format', 'like', 'stalactit', 'stalagmit', 'miner', 'deposit', 'journey', 'begin', 'spelunk', 'equip', 'essenti', 'gear', 'helmet', 'headlamp', 'protect', 'cloth', 'ventur', 'environ', 'rang', 'vast', 'cave', 'system', 'narrow', 'underground', 'passag', 'tool', 'crucial', 'safe', 'navig', 'observ', 'geolog', 'featur', 'enabl', 'spelunk', 'identifi', 'appreci', 'uniqu', 'characterist', 'cave', 'moreov', 'listen', 'play', 'pivot', 'role', 'spelunk', 'sound', 'drip', 'water', 'echo', 'chamber', 'enhanc', 'sensori', 'experi', 'practic', 'includ', 'document', 'discoveri', 'often', 'journal', 'digit', 'format', 'contribut', 'scientif', 'knowledg', 'provid', 'data', 'geolog', 'hydrolog', 'cave', 'biolog', 'aspect', 'spelunk', 'emphas', 'valu', 'beyond', 'adventur', 'highlight', 'contribut', 'scientif', 'understand', 'conserv', 'pursuit', 'spelunk', 'foster', 'connect', 'earth', 'hidden', 'landscap', 'promot', 'environment', 'awar', 'provid', 'insight', 'geolog', 'process', 'shape', 'world', 'serv', 'multifacet', 'activ', 'blend', 'excit', 'educ', 'environment', 'stewardship'] ... (Total: 131 )\n",
      "\n",
      "Document 3 Tokens: ['golf', 'refin', 'strateg', 'hobbi', 'enchant', 'enthusiast', 'worldwid', 'blend', 'skill', 'patienc', 'outdoor', 'beauti', 'activ', 'deepen', 'one', 'appreci', 'meticul', 'design', 'landscap', 'hone', 'precis', 'focu', 'golfer', 'learn', 'master', 'stroke', 'understand', 'cours', 'topographi', 'gaug', 'environment', 'factor', 'like', 'wind', 'terrain', 'experi', 'begin', 'golfer', 'equip', 'essenti', 'gear', 'club', 'ball', 'tee', 'embark', 'cours', 'rang', 'lush', 'green', 'challeng', 'sand', 'trap', 'water', 'hazard', 'tool', 'indispens', 'execut', 'varieti', 'shot', 'allow', 'golfer', 'navig', 'cours', 'aim', 'minim', 'stroke', 'moreov', 'observ', 'play', 'crucial', 'role', 'golf', 'abil', 'read', 'green', 'anticip', 'ball', 'path', 'significantli', 'influenc', 'gameplay', 'practic', 'involv', 'keep', 'score', 'often', 'digit', 'app', 'scorecard', 'add', 'competit', 'element', 'enabl', 'track', 'progress', 'skill', 'improv', 'aspect', 'golf', 'underscor', 'appeal', 'beyond', 'leisur', 'highlight', 'capac', 'person', 'challeng', 'mental', 'disciplin', 'endeavor', 'golf', 'foster', 'connect', 'outdoor', 'encourag', 'sportsmanship', 'provid', 'insight', 'person', 'strategi', 'resili', 'serv', 'multifacet', 'activ', 'combin', 'relax', 'challeng', 'person', 'develop'] ... (Total: 129 )\n",
      "\n"
     ]
    }
   ],
   "source": [
    "from nltk.stem import PorterStemmer\n",
    "\n",
    "# Initialize the Porter Stemmer\n",
    "stemmer = PorterStemmer()\n",
    "\n",
    "# Apply stemming to the documents\n",
    "stemmed_docs = []\n",
    "for tokens in no_stopwords_including_also_docs:\n",
    "    stemmed_tokens = [stemmer.stem(token) for token in tokens]\n",
    "    stemmed_docs.append(stemmed_tokens)\n",
    "\n",
    "# Print the stemmed documents, along with their token counts\n",
    "print(\"\\nDocuments with Tokens Lowercased, Punctuation Removed, Stopwords Including 'also' Removed, and Stemmed:\")\n",
    "for i, doc in enumerate(stemmed_docs):\n",
    "    print(f\"Document {i+1} Tokens:\", doc, \"... (Total:\", len(doc), \")\\n\")\n"
   ]
  },
  {
   "cell_type": "code",
   "execution_count": 14,
   "metadata": {},
   "outputs": [
    {
     "name": "stdout",
     "output_type": "stream",
     "text": [
      "\n",
      "Documents with Tokens Lowercased, Punctuation Removed, Stopwords Including 'also' Removed, and Lemmatized:\n",
      "Document 1 Tokens: ['birdwatching', 'study', 'serene', 'educational', 'hobby', 'captivated', 'enthusiast', 'worldwide', 'offering', 'intimate', 'glimpse', 'avian', 'world', 'activity', 'deepens', 'one', 'appreciation', 'nature', 'diversity', 'enhances', 'observational', 'skill', 'birdwatchers', 'learn', 'identify', 'specie', 'plumage', 'call', 'behavior', 'process', 'begin', 'birdwatcher', 'positioning', 'habitat', 'ranging', 'dense', 'forest', 'urban', 'park', 'armed', 'essential', 'tool', 'binoculars', 'field', 'guide', 'guide', 'invaluable', 'distinguishing', 'specie', 'noting', 'characteristic', 'color', 'pattern', 'size', 'distinctive', 'marking', 'additionally', 'listening', 'play', 'crucial', 'role', 'birdwatching', 'ability', 'recognize', 'birdsong', 'call', 'reveal', 'presence', 'specie', 'hidden', 'view', 'practice', 'involves', 'recording', 'observation', 'often', 'journal', 'digital', 'app', 'contributes', 'citizen', 'science', 'providing', 'data', 'bird', 'population', 'migration', 'pattern', 'aspect', 'birdwatching', 'underscore', 'significance', 'beyond', 'recreation', 'highlighting', 'contribution', 'conservation', 'effort', 'endeavor', 'birdwatching', 'foster', 'connection', 'nature', 'encourages', 'environmental', 'stewardship', 'provides', 'insight', 'ecological', 'role', 'bird', 'within', 'habitat', 'serf', 'multifaceted', 'activity', 'combine', 'leisure', 'learning', 'conservation'] ... (Total: 120 )\n",
      "\n",
      "Document 2 Tokens: ['spelunking', 'adventurous', 'enlightening', 'hobby', 'attracted', 'enthusiast', 'worldwide', 'thrilling', 'exploration', 'subterranean', 'world', 'activity', 'heightens', 'one', 'appreciation', 'planet', 'underground', 'beauty', 'sharpens', 'exploratory', 'skill', 'spelunker', 'learn', 'navigate', 'cave', 'recognizing', 'formation', 'like', 'stalactite', 'stalagmite', 'mineral', 'deposit', 'journey', 'begin', 'spelunker', 'equipping', 'essential', 'gear', 'helmet', 'headlamp', 'protective', 'clothing', 'venturing', 'environment', 'ranging', 'vast', 'cave', 'system', 'narrow', 'underground', 'passage', 'tool', 'crucial', 'safe', 'navigation', 'observation', 'geological', 'feature', 'enabling', 'spelunker', 'identify', 'appreciate', 'unique', 'characteristic', 'cave', 'moreover', 'listening', 'play', 'pivotal', 'role', 'spelunking', 'sound', 'dripping', 'water', 'echo', 'chamber', 'enhance', 'sensory', 'experience', 'practice', 'includes', 'documenting', 'discovery', 'often', 'journal', 'digital', 'format', 'contributing', 'scientific', 'knowledge', 'providing', 'data', 'geology', 'hydrology', 'cave', 'biology', 'aspect', 'spelunking', 'emphasizes', 'value', 'beyond', 'adventure', 'highlighting', 'contribution', 'scientific', 'understanding', 'conservation', 'pursuit', 'spelunking', 'foster', 'connection', 'earth', 'hidden', 'landscape', 'promotes', 'environmental', 'awareness', 'provides', 'insight', 'geological', 'process', 'shape', 'world', 'serf', 'multifaceted', 'activity', 'blend', 'excitement', 'education', 'environmental', 'stewardship'] ... (Total: 131 )\n",
      "\n",
      "Document 3 Tokens: ['golfing', 'refined', 'strategic', 'hobby', 'enchanted', 'enthusiast', 'worldwide', 'blend', 'skill', 'patience', 'outdoor', 'beauty', 'activity', 'deepens', 'one', 'appreciation', 'meticulously', 'designed', 'landscape', 'hone', 'precision', 'focus', 'golfer', 'learn', 'master', 'stroke', 'understand', 'course', 'topography', 'gauge', 'environmental', 'factor', 'like', 'wind', 'terrain', 'experience', 'begin', 'golfer', 'equipping', 'essential', 'gear', 'club', 'ball', 'tee', 'embarking', 'course', 'range', 'lush', 'green', 'challenging', 'sand', 'trap', 'water', 'hazard', 'tool', 'indispensable', 'executing', 'variety', 'shot', 'allowing', 'golfer', 'navigate', 'course', 'aiming', 'minimize', 'stroke', 'moreover', 'observation', 'play', 'crucial', 'role', 'golfing', 'ability', 'read', 'green', 'anticipate', 'ball', 'path', 'significantly', 'influence', 'gameplay', 'practice', 'involves', 'keeping', 'score', 'often', 'digital', 'app', 'scorecard', 'add', 'competitive', 'element', 'enables', 'tracking', 'progress', 'skill', 'improvement', 'aspect', 'golfing', 'underscore', 'appeal', 'beyond', 'leisure', 'highlighting', 'capacity', 'personal', 'challenge', 'mental', 'discipline', 'endeavor', 'golfing', 'foster', 'connection', 'outdoors', 'encourages', 'sportsmanship', 'provides', 'insight', 'personal', 'strategy', 'resilience', 'serf', 'multifaceted', 'activity', 'combine', 'relaxation', 'challenge', 'personal', 'development'] ... (Total: 129 )\n",
      "\n"
     ]
    }
   ],
   "source": [
    "from nltk.stem import WordNetLemmatizer\n",
    "\n",
    "# Initialize the WordNet Lemmatizer\n",
    "lemmatizer = WordNetLemmatizer()\n",
    "\n",
    "# Apply lemmatization to the documents\n",
    "lemmatized_docs = []\n",
    "for tokens in no_stopwords_including_also_docs:\n",
    "    lemmatized_tokens = [lemmatizer.lemmatize(token) for token in tokens]\n",
    "    lemmatized_docs.append(lemmatized_tokens)\n",
    "\n",
    "# Print the lemmatized documents, along with their token counts\n",
    "print(\"\\nDocuments with Tokens Lowercased, Punctuation Removed, Stopwords Including 'also' Removed, and Lemmatized:\")\n",
    "for i, doc in enumerate(lemmatized_docs):\n",
    "    print(f\"Document {i+1} Tokens:\", doc, \"... (Total:\", len(doc), \")\\n\")"
   ]
  },
  {
   "cell_type": "code",
   "execution_count": 15,
   "metadata": {},
   "outputs": [
    {
     "name": "stdout",
     "output_type": "stream",
     "text": [
      "Collecting spacy\n",
      "  Downloading spacy-3.8.7-cp310-cp310-macosx_11_0_arm64.whl.metadata (27 kB)\n",
      "Collecting spacy-legacy<3.1.0,>=3.0.11 (from spacy)\n",
      "  Downloading spacy_legacy-3.0.12-py2.py3-none-any.whl.metadata (2.8 kB)\n",
      "Collecting spacy-loggers<2.0.0,>=1.0.0 (from spacy)\n",
      "  Downloading spacy_loggers-1.0.5-py3-none-any.whl.metadata (23 kB)\n",
      "Collecting murmurhash<1.1.0,>=0.28.0 (from spacy)\n",
      "  Downloading murmurhash-1.0.13-cp310-cp310-macosx_11_0_arm64.whl.metadata (2.2 kB)\n",
      "Collecting cymem<2.1.0,>=2.0.2 (from spacy)\n",
      "  Downloading cymem-2.0.11-cp310-cp310-macosx_11_0_arm64.whl.metadata (8.5 kB)\n",
      "Collecting preshed<3.1.0,>=3.0.2 (from spacy)\n",
      "  Downloading preshed-3.0.10-cp310-cp310-macosx_11_0_arm64.whl.metadata (2.4 kB)\n",
      "Collecting thinc<8.4.0,>=8.3.4 (from spacy)\n",
      "  Downloading thinc-8.3.6-cp310-cp310-macosx_11_0_arm64.whl.metadata (15 kB)\n",
      "Collecting wasabi<1.2.0,>=0.9.1 (from spacy)\n",
      "  Downloading wasabi-1.1.3-py3-none-any.whl.metadata (28 kB)\n",
      "Collecting srsly<3.0.0,>=2.4.3 (from spacy)\n",
      "  Downloading srsly-2.5.1-cp310-cp310-macosx_11_0_arm64.whl.metadata (19 kB)\n",
      "Collecting catalogue<2.1.0,>=2.0.6 (from spacy)\n",
      "  Downloading catalogue-2.0.10-py3-none-any.whl.metadata (14 kB)\n",
      "Collecting weasel<0.5.0,>=0.1.0 (from spacy)\n",
      "  Downloading weasel-0.4.1-py3-none-any.whl.metadata (4.6 kB)\n",
      "Requirement already satisfied: typer<1.0.0,>=0.3.0 in /Users/azeez/miniforge3/lib/python3.10/site-packages (from spacy) (0.16.0)\n",
      "Requirement already satisfied: tqdm<5.0.0,>=4.38.0 in /Users/azeez/miniforge3/lib/python3.10/site-packages (from spacy) (4.67.1)\n",
      "Requirement already satisfied: numpy>=1.19.0 in /Users/azeez/miniforge3/lib/python3.10/site-packages (from spacy) (1.26.4)\n",
      "Requirement already satisfied: requests<3.0.0,>=2.13.0 in /Users/azeez/miniforge3/lib/python3.10/site-packages (from spacy) (2.32.3)\n",
      "Requirement already satisfied: pydantic!=1.8,!=1.8.1,<3.0.0,>=1.7.4 in /Users/azeez/miniforge3/lib/python3.10/site-packages (from spacy) (2.11.4)\n",
      "Requirement already satisfied: jinja2 in /Users/azeez/miniforge3/lib/python3.10/site-packages (from spacy) (3.1.4)\n",
      "Requirement already satisfied: setuptools in /Users/azeez/miniforge3/lib/python3.10/site-packages (from spacy) (69.5.1)\n",
      "Requirement already satisfied: packaging>=20.0 in /Users/azeez/miniforge3/lib/python3.10/site-packages (from spacy) (24.0)\n",
      "Collecting langcodes<4.0.0,>=3.2.0 (from spacy)\n",
      "  Downloading langcodes-3.5.0-py3-none-any.whl.metadata (29 kB)\n",
      "Collecting language-data>=1.2 (from langcodes<4.0.0,>=3.2.0->spacy)\n",
      "  Downloading language_data-1.3.0-py3-none-any.whl.metadata (4.3 kB)\n",
      "Requirement already satisfied: annotated-types>=0.6.0 in /Users/azeez/miniforge3/lib/python3.10/site-packages (from pydantic!=1.8,!=1.8.1,<3.0.0,>=1.7.4->spacy) (0.7.0)\n",
      "Requirement already satisfied: pydantic-core==2.33.2 in /Users/azeez/miniforge3/lib/python3.10/site-packages (from pydantic!=1.8,!=1.8.1,<3.0.0,>=1.7.4->spacy) (2.33.2)\n",
      "Requirement already satisfied: typing-extensions>=4.12.2 in /Users/azeez/miniforge3/lib/python3.10/site-packages (from pydantic!=1.8,!=1.8.1,<3.0.0,>=1.7.4->spacy) (4.12.2)\n",
      "Requirement already satisfied: typing-inspection>=0.4.0 in /Users/azeez/miniforge3/lib/python3.10/site-packages (from pydantic!=1.8,!=1.8.1,<3.0.0,>=1.7.4->spacy) (0.4.0)\n",
      "Requirement already satisfied: charset-normalizer<4,>=2 in /Users/azeez/miniforge3/lib/python3.10/site-packages (from requests<3.0.0,>=2.13.0->spacy) (3.3.2)\n",
      "Requirement already satisfied: idna<4,>=2.5 in /Users/azeez/miniforge3/lib/python3.10/site-packages (from requests<3.0.0,>=2.13.0->spacy) (3.6)\n",
      "Requirement already satisfied: urllib3<3,>=1.21.1 in /Users/azeez/miniforge3/lib/python3.10/site-packages (from requests<3.0.0,>=2.13.0->spacy) (2.2.1)\n",
      "Requirement already satisfied: certifi>=2017.4.17 in /Users/azeez/miniforge3/lib/python3.10/site-packages (from requests<3.0.0,>=2.13.0->spacy) (2025.7.14)\n",
      "Collecting blis<1.4.0,>=1.3.0 (from thinc<8.4.0,>=8.3.4->spacy)\n",
      "  Downloading blis-1.3.0-cp310-cp310-macosx_11_0_arm64.whl.metadata (7.4 kB)\n",
      "Collecting confection<1.0.0,>=0.0.1 (from thinc<8.4.0,>=8.3.4->spacy)\n",
      "  Downloading confection-0.1.5-py3-none-any.whl.metadata (19 kB)\n",
      "Collecting numpy>=1.19.0 (from spacy)\n",
      "  Downloading numpy-2.2.6-cp310-cp310-macosx_14_0_arm64.whl.metadata (62 kB)\n",
      "\u001b[2K     \u001b[90m━━━━━━━━━━━━━━━━━━━━━━━━━━━━━━━━━━━━━━━━\u001b[0m \u001b[32m62.0/62.0 kB\u001b[0m \u001b[31m2.2 MB/s\u001b[0m eta \u001b[36m0:00:00\u001b[0m\n",
      "\u001b[?25hRequirement already satisfied: click>=8.0.0 in /Users/azeez/miniforge3/lib/python3.10/site-packages (from typer<1.0.0,>=0.3.0->spacy) (8.1.8)\n",
      "Requirement already satisfied: shellingham>=1.3.0 in /Users/azeez/miniforge3/lib/python3.10/site-packages (from typer<1.0.0,>=0.3.0->spacy) (1.5.4)\n",
      "Requirement already satisfied: rich>=10.11.0 in /Users/azeez/miniforge3/lib/python3.10/site-packages (from typer<1.0.0,>=0.3.0->spacy) (13.9.4)\n",
      "Collecting cloudpathlib<1.0.0,>=0.7.0 (from weasel<0.5.0,>=0.1.0->spacy)\n",
      "  Downloading cloudpathlib-0.21.1-py3-none-any.whl.metadata (14 kB)\n",
      "Collecting smart-open<8.0.0,>=5.2.1 (from weasel<0.5.0,>=0.1.0->spacy)\n",
      "  Downloading smart_open-7.3.0.post1-py3-none-any.whl.metadata (24 kB)\n",
      "Requirement already satisfied: MarkupSafe>=2.0 in /Users/azeez/miniforge3/lib/python3.10/site-packages (from jinja2->spacy) (3.0.2)\n",
      "Collecting marisa-trie>=1.1.0 (from language-data>=1.2->langcodes<4.0.0,>=3.2.0->spacy)\n",
      "  Downloading marisa_trie-1.2.1-cp310-cp310-macosx_11_0_arm64.whl.metadata (9.0 kB)\n",
      "Requirement already satisfied: markdown-it-py>=2.2.0 in /Users/azeez/miniforge3/lib/python3.10/site-packages (from rich>=10.11.0->typer<1.0.0,>=0.3.0->spacy) (3.0.0)\n",
      "Requirement already satisfied: pygments<3.0.0,>=2.13.0 in /Users/azeez/miniforge3/lib/python3.10/site-packages (from rich>=10.11.0->typer<1.0.0,>=0.3.0->spacy) (2.18.0)\n",
      "Requirement already satisfied: wrapt in /Users/azeez/miniforge3/lib/python3.10/site-packages (from smart-open<8.0.0,>=5.2.1->weasel<0.5.0,>=0.1.0->spacy) (1.17.2)\n",
      "Requirement already satisfied: mdurl~=0.1 in /Users/azeez/miniforge3/lib/python3.10/site-packages (from markdown-it-py>=2.2.0->rich>=10.11.0->typer<1.0.0,>=0.3.0->spacy) (0.1.2)\n",
      "Downloading spacy-3.8.7-cp310-cp310-macosx_11_0_arm64.whl (6.3 MB)\n",
      "\u001b[2K   \u001b[90m━━━━━━━━━━━━━━━━━━━━━━━━━━━━━━━━━━━━━━━━\u001b[0m \u001b[32m6.3/6.3 MB\u001b[0m \u001b[31m4.3 MB/s\u001b[0m eta \u001b[36m0:00:00\u001b[0m00:01\u001b[0m00:01\u001b[0m\n",
      "\u001b[?25hDownloading catalogue-2.0.10-py3-none-any.whl (17 kB)\n",
      "Downloading cymem-2.0.11-cp310-cp310-macosx_11_0_arm64.whl (41 kB)\n",
      "\u001b[2K   \u001b[90m━━━━━━━━━━━━━━━━━━━━━━━━━━━━━━━━━━━━━━━━\u001b[0m \u001b[32m41.7/41.7 kB\u001b[0m \u001b[31m4.1 MB/s\u001b[0m eta \u001b[36m0:00:00\u001b[0m\n",
      "\u001b[?25hDownloading langcodes-3.5.0-py3-none-any.whl (182 kB)\n",
      "\u001b[2K   \u001b[90m━━━━━━━━━━━━━━━━━━━━━━━━━━━━━━━━━━━━━━━━\u001b[0m \u001b[32m183.0/183.0 kB\u001b[0m \u001b[31m4.1 MB/s\u001b[0m eta \u001b[36m0:00:00\u001b[0ma \u001b[36m0:00:01\u001b[0m\n",
      "\u001b[?25hDownloading murmurhash-1.0.13-cp310-cp310-macosx_11_0_arm64.whl (26 kB)\n",
      "Downloading preshed-3.0.10-cp310-cp310-macosx_11_0_arm64.whl (127 kB)\n",
      "\u001b[2K   \u001b[90m━━━━━━━━━━━━━━━━━━━━━━━━━━━━━━━━━━━━━━━━\u001b[0m \u001b[32m127.3/127.3 kB\u001b[0m \u001b[31m4.0 MB/s\u001b[0m eta \u001b[36m0:00:00\u001b[0m\n",
      "\u001b[?25hDownloading spacy_legacy-3.0.12-py2.py3-none-any.whl (29 kB)\n",
      "Downloading spacy_loggers-1.0.5-py3-none-any.whl (22 kB)\n",
      "Downloading srsly-2.5.1-cp310-cp310-macosx_11_0_arm64.whl (634 kB)\n",
      "\u001b[2K   \u001b[90m━━━━━━━━━━━━━━━━━━━━━━━━━━━━━━━━━━━━━━━━\u001b[0m \u001b[32m634.4/634.4 kB\u001b[0m \u001b[31m4.8 MB/s\u001b[0m eta \u001b[36m0:00:00\u001b[0ma \u001b[36m0:00:01\u001b[0m\n",
      "\u001b[?25hDownloading thinc-8.3.6-cp310-cp310-macosx_11_0_arm64.whl (844 kB)\n",
      "\u001b[2K   \u001b[90m━━━━━━━━━━━━━━━━━━━━━━━━━━━━━━━━━━━━━━━━\u001b[0m \u001b[32m844.9/844.9 kB\u001b[0m \u001b[31m5.3 MB/s\u001b[0m eta \u001b[36m0:00:00\u001b[0m00:01\u001b[0m00:01\u001b[0m\n",
      "\u001b[?25hDownloading numpy-2.2.6-cp310-cp310-macosx_14_0_arm64.whl (5.3 MB)\n",
      "\u001b[2K   \u001b[90m━━━━━━━━━━━━━━━━━━━━━━━━━━━━━━━━━━━━━━━━\u001b[0m \u001b[32m5.3/5.3 MB\u001b[0m \u001b[31m4.6 MB/s\u001b[0m eta \u001b[36m0:00:00\u001b[0ma \u001b[36m0:00:01\u001b[0m\n",
      "\u001b[?25hDownloading wasabi-1.1.3-py3-none-any.whl (27 kB)\n",
      "Downloading weasel-0.4.1-py3-none-any.whl (50 kB)\n",
      "\u001b[2K   \u001b[90m━━━━━━━━━━━━━━━━━━━━━━━━━━━━━━━━━━━━━━━━\u001b[0m \u001b[32m50.3/50.3 kB\u001b[0m \u001b[31m6.0 MB/s\u001b[0m eta \u001b[36m0:00:00\u001b[0m\n",
      "\u001b[?25hDownloading blis-1.3.0-cp310-cp310-macosx_11_0_arm64.whl (1.3 MB)\n",
      "\u001b[2K   \u001b[90m━━━━━━━━━━━━━━━━━━━━━━━━━━━━━━━━━━━━━━━━\u001b[0m \u001b[32m1.3/1.3 MB\u001b[0m \u001b[31m3.0 MB/s\u001b[0m eta \u001b[36m0:00:00\u001b[0ma \u001b[36m0:00:01\u001b[0m\n",
      "\u001b[?25hDownloading cloudpathlib-0.21.1-py3-none-any.whl (52 kB)\n",
      "\u001b[2K   \u001b[90m━━━━━━━━━━━━━━━━━━━━━━━━━━━━━━━━━━━━━━━━\u001b[0m \u001b[32m52.8/52.8 kB\u001b[0m \u001b[31m1.8 MB/s\u001b[0m eta \u001b[36m0:00:00\u001b[0m\n",
      "\u001b[?25hDownloading confection-0.1.5-py3-none-any.whl (35 kB)\n",
      "Downloading language_data-1.3.0-py3-none-any.whl (5.4 MB)\n",
      "\u001b[2K   \u001b[90m━━━━━━━━━━━━━━━━━━━━━━━━━━━━━━━━━━━━━━━━\u001b[0m \u001b[32m5.4/5.4 MB\u001b[0m \u001b[31m3.1 MB/s\u001b[0m eta \u001b[36m0:00:00\u001b[0m00:01\u001b[0m00:01\u001b[0m\n",
      "\u001b[?25hDownloading smart_open-7.3.0.post1-py3-none-any.whl (61 kB)\n",
      "\u001b[2K   \u001b[90m━━━━━━━━━━━━━━━━━━━━━━━━━━━━━━━━━━━━━━━━\u001b[0m \u001b[32m61.9/61.9 kB\u001b[0m \u001b[31m3.3 MB/s\u001b[0m eta \u001b[36m0:00:00\u001b[0m\n",
      "\u001b[?25hDownloading marisa_trie-1.2.1-cp310-cp310-macosx_11_0_arm64.whl (174 kB)\n",
      "\u001b[2K   \u001b[90m━━━━━━━━━━━━━━━━━━━━━━━━━━━━━━━━━━━━━━━━\u001b[0m \u001b[32m174.7/174.7 kB\u001b[0m \u001b[31m4.0 MB/s\u001b[0m eta \u001b[36m0:00:00\u001b[0ma \u001b[36m0:00:01\u001b[0m\n",
      "\u001b[?25hInstalling collected packages: cymem, wasabi, spacy-loggers, spacy-legacy, smart-open, numpy, murmurhash, marisa-trie, cloudpathlib, catalogue, srsly, preshed, language-data, blis, langcodes, confection, weasel, thinc, spacy\n",
      "  Attempting uninstall: numpy\n",
      "    Found existing installation: numpy 1.26.4\n",
      "    Uninstalling numpy-1.26.4:\n",
      "      Successfully uninstalled numpy-1.26.4\n",
      "\u001b[31mERROR: pip's dependency resolver does not currently take into account all the packages that are installed. This behaviour is the source of the following dependency conflicts.\n",
      "langchain 0.3.11 requires numpy<2,>=1.22.4; python_version < \"3.12\", but you have numpy 2.2.6 which is incompatible.\n",
      "langchain-community 0.3.11 requires numpy<2,>=1.22.4; python_version < \"3.12\", but you have numpy 2.2.6 which is incompatible.\n",
      "tensorflow 2.19.0 requires numpy<2.2.0,>=1.26.0, but you have numpy 2.2.6 which is incompatible.\u001b[0m\u001b[31m\n",
      "\u001b[0mSuccessfully installed blis-1.3.0 catalogue-2.0.10 cloudpathlib-0.21.1 confection-0.1.5 cymem-2.0.11 langcodes-3.5.0 language-data-1.3.0 marisa-trie-1.2.1 murmurhash-1.0.13 numpy-2.2.6 preshed-3.0.10 smart-open-7.3.0.post1 spacy-3.8.7 spacy-legacy-3.0.12 spacy-loggers-1.0.5 srsly-2.5.1 thinc-8.3.6 wasabi-1.1.3 weasel-0.4.1\n",
      "Note: you may need to restart the kernel to use updated packages.\n"
     ]
    }
   ],
   "source": [
    "%pip install spacy "
   ]
  },
  {
   "cell_type": "code",
   "execution_count": 17,
   "metadata": {},
   "outputs": [
    {
     "name": "stdout",
     "output_type": "stream",
     "text": [
      "Collecting en-core-web-sm==3.8.0\n",
      "  Downloading https://github.com/explosion/spacy-models/releases/download/en_core_web_sm-3.8.0/en_core_web_sm-3.8.0-py3-none-any.whl (12.8 MB)\n",
      "\u001b[2K     \u001b[90m━━━━━━━━━━━━━━━━━━━━━━━━━━━━━━━━━━━━━━━━\u001b[0m \u001b[32m12.8/12.8 MB\u001b[0m \u001b[31m4.2 MB/s\u001b[0m eta \u001b[36m0:00:00\u001b[0m00:01\u001b[0m00:01\u001b[0m\n",
      "\u001b[?25hInstalling collected packages: en-core-web-sm\n",
      "Successfully installed en-core-web-sm-3.8.0\n",
      "\u001b[38;5;2m✔ Download and installation successful\u001b[0m\n",
      "You can now load the package via spacy.load('en_core_web_sm')\n"
     ]
    }
   ],
   "source": [
    "!python -m spacy download en_core_web_sm"
   ]
  },
  {
   "cell_type": "code",
   "execution_count": 18,
   "metadata": {},
   "outputs": [
    {
     "name": "stdout",
     "output_type": "stream",
     "text": [
      "\n",
      "Documents Lemmatized using spaCy:\n",
      "Document 1 Tokens: ['birdwatch', 'study', 'serene', 'educational', 'hobby', 'captivate', 'enthusiast', 'worldwide', 'offer', 'intimate', 'glimpse', 'avian', 'world', 'activity', 'deepen', 'one', 'appreciation', 'nature', 'diversity', 'enhance', 'observational', 'skill', 'birdwatcher', 'learn', 'identify', 'species', 'plumage', 'call', 'behavior', 'process', 'begin', 'birdwatcher', 'position', 'habitat', 'range', 'dense', 'forest', 'urban', 'park', 'arm', 'essential', 'tool', 'binocular', 'field', 'guide', 'guide', 'invaluable', 'distinguish', 'specie', 'note', 'characteristic', 'color', 'pattern', 'size', 'distinctive', 'marking', 'additionally', 'listen', 'play', 'crucial', 'role', 'birdwatching', 'ability', 'recognize', 'birdsong', 'call', 'reveal', 'presence', 'specie', 'hide', 'view', 'practice', 'involve', 'record', 'observation', 'often', 'journal', 'digital', 'app', 'contribute', 'citizen', 'science', 'provide', 'datum', 'bird', 'population', 'migration', 'pattern', 'aspect', 'birdwatch', 'underscore', 'significance', 'beyond', 'recreation', 'highlight', 'contribution', 'conservation', 'effort', 'endeavor', 'birdwatch', 'foster', 'connection', 'nature', 'encourage', 'environmental', 'stewardship', 'provide', 'insight', 'ecological', 'role', 'bird', 'within', 'habitat', 'serve', 'multifaceted', 'activity', 'combine', 'leisure', 'learn', 'conservation'] ... (Total: 120 )\n",
      "\n",
      "Document 2 Tokens: ['spelunk', 'adventurous', 'enlightening', 'hobby', 'attract', 'enthusiast', 'worldwide', 'thrill', 'exploration', 'subterranean', 'world', 'activity', 'heightens', 'one', 'appreciation', 'planet', 'underground', 'beauty', 'sharpen', 'exploratory', 'skill', 'spelunker', 'learn', 'navigate', 'cave', 'recognize', 'formation', 'like', 'stalactite', 'stalagmite', 'mineral', 'deposit', 'journey', 'begin', 'spelunker', 'equip', 'essential', 'gear', 'helmet', 'headlamp', 'protective', 'clothing', 'venturing', 'environment', 'range', 'vast', 'cave', 'system', 'narrow', 'underground', 'passage', 'tool', 'crucial', 'safe', 'navigation', 'observation', 'geological', 'feature', 'enable', 'spelunker', 'identify', 'appreciate', 'unique', 'characteristic', 'cave', 'moreover', 'listen', 'play', 'pivotal', 'role', 'spelunk', 'sound', 'dripping', 'water', 'echo', 'chamber', 'enhance', 'sensory', 'experience', 'practice', 'include', 'document', 'discovery', 'often', 'journal', 'digital', 'format', 'contribute', 'scientific', 'knowledge', 'provide', 'datum', 'geology', 'hydrology', 'cave', 'biology', 'aspect', 'spelunk', 'emphasize', 'value', 'beyond', 'adventure', 'highlight', 'contribution', 'scientific', 'understanding', 'conservation', 'pursuit', 'spelunk', 'foster', 'connection', 'earth', 'hide', 'landscape', 'promote', 'environmental', 'awareness', 'provide', 'insight', 'geological', 'process', 'shape', 'world', 'serve', 'multifaceted', 'activity', 'blend', 'excitement', 'education', 'environmental', 'stewardship'] ... (Total: 131 )\n",
      "\n",
      "Document 3 Tokens: ['golfing', 'refine', 'strategic', 'hobby', 'enchant', 'enthusiast', 'worldwide', 'blend', 'skill', 'patience', 'outdoor', 'beauty', 'activity', 'deepen', 'one', 'appreciation', 'meticulously', 'design', 'landscape', 'hone', 'precision', 'focus', 'golfer', 'learn', 'master', 'stroke', 'understand', 'course', 'topography', 'gauge', 'environmental', 'factor', 'like', 'wind', 'terrain', 'experience', 'begin', 'golfer', 'equip', 'essential', 'gear', 'club', 'ball', 'tee', 'embark', 'course', 'range', 'lush', 'green', 'challenge', 'sand', 'trap', 'water', 'hazard', 'tool', 'indispensable', 'execute', 'variety', 'shot', 'allow', 'golfer', 'navigate', 'course', 'aim', 'minimize', 'stroke', 'moreover', 'observation', 'play', 'crucial', 'role', 'golfing', 'ability', 'read', 'green', 'anticipate', 'ball', 'path', 'significantly', 'influence', 'gameplay', 'practice', 'involve', 'keep', 'score', 'often', 'digital', 'app', 'scorecard', 'add', 'competitive', 'element', 'enable', 'track', 'progress', 'skill', 'improvement', 'aspect', 'golf', 'underscore', 'appeal', 'beyond', 'leisure', 'highlighting', 'capacity', 'personal', 'challenge', 'mental', 'discipline', 'endeavor', 'golf', 'foster', 'connection', 'outdoors', 'encourage', 'sportsmanship', 'provide', 'insight', 'personal', 'strategy', 'resilience', 'serve', 'multifaceted', 'activity', 'combine', 'relaxation', 'challenge', 'personal', 'development'] ... (Total: 129 )\n",
      "\n"
     ]
    }
   ],
   "source": [
    "import spacy\n",
    "\n",
    "# Load the English language model with lemmatization capabilities\n",
    "nlp = spacy.load(\"en_core_web_sm\")\n",
    "\n",
    "# Apply lemmatization using spaCy\n",
    "spacy_lemmatized_docs = []\n",
    "for doc in no_stopwords_including_also_docs:\n",
    "    # Process the document using spaCy\n",
    "    spacy_doc = nlp(' '.join(doc))\n",
    "    # Extract lemmatized tokens\n",
    "    spacy_lemmatized_tokens = [token.lemma_ for token in spacy_doc]\n",
    "    spacy_lemmatized_docs.append(spacy_lemmatized_tokens)\n",
    "\n",
    "# Print the lemmatized documents using spaCy, along with their token counts\n",
    "print(\"\\nDocuments Lemmatized using spaCy:\")\n",
    "for i, doc in enumerate(spacy_lemmatized_docs):\n",
    "    print(f\"Document {i+1} Tokens:\", doc, \"... (Total:\", len(doc), \")\\n\")"
   ]
  },
  {
   "cell_type": "code",
   "execution_count": 19,
   "metadata": {},
   "outputs": [
    {
     "name": "stdout",
     "output_type": "stream",
     "text": [
      "Vocabulary:\n",
      "['ability', 'activity', 'add', 'additionally', 'adventure', 'adventurous', 'aim', 'allow', 'anticipate', 'app', 'appeal', 'appreciate', 'appreciation', 'arm', 'aspect', 'attract', 'avian', 'awareness', 'ball', 'beauty', 'begin', 'behavior', 'beyond', 'binocular', 'biology', 'bird', 'birdsong', 'birdwatch', 'birdwatcher', 'birdwatching', 'blend', 'call', 'capacity', 'captivate', 'cave', 'challenge', 'chamber', 'characteristic', 'citizen', 'clothing', 'club', 'color', 'combine', 'competitive', 'connection', 'conservation', 'contribute', 'contribution', 'course', 'crucial', 'datum', 'deepen', 'dense', 'deposit', 'design', 'development', 'digital', 'discipline', 'discovery', 'distinctive', 'distinguish', 'diversity', 'document', 'dripping', 'earth', 'echo', 'ecological', 'education', 'educational', 'effort', 'element', 'embark', 'emphasize', 'enable', 'enchant', 'encourage', 'endeavor', 'enhance', 'enlightening', 'enthusiast', 'environment', 'environmental', 'equip', 'essential', 'excitement', 'execute', 'experience', 'exploration', 'exploratory', 'factor', 'feature', 'field', 'focus', 'forest', 'format', 'formation', 'foster', 'gameplay', 'gauge', 'gear', 'geological', 'geology', 'glimpse', 'golf', 'golfer', 'golfing', 'green', 'guide', 'habitat', 'hazard', 'headlamp', 'heightens', 'helmet', 'hide', 'highlight', 'highlighting', 'hobby', 'hone', 'hydrology', 'identify', 'improvement', 'include', 'indispensable', 'influence', 'insight', 'intimate', 'invaluable', 'involve', 'journal', 'journey', 'keep', 'knowledge', 'landscape', 'learn', 'leisure', 'like', 'listen', 'lush', 'marking', 'master', 'mental', 'meticulously', 'migration', 'mineral', 'minimize', 'moreover', 'multifaceted', 'narrow', 'nature', 'navigate', 'navigation', 'note', 'observation', 'observational', 'offer', 'often', 'one', 'outdoor', 'outdoors', 'park', 'passage', 'path', 'patience', 'pattern', 'personal', 'pivotal', 'planet', 'play', 'plumage', 'population', 'position', 'practice', 'precision', 'presence', 'process', 'progress', 'promote', 'protective', 'provide', 'pursuit', 'range', 'read', 'recognize', 'record', 'recreation', 'refine', 'relaxation', 'resilience', 'reveal', 'role', 'safe', 'sand', 'science', 'scientific', 'score', 'scorecard', 'sensory', 'serene', 'serve', 'shape', 'sharpen', 'shot', 'significance', 'significantly', 'size', 'skill', 'sound', 'specie', 'species', 'spelunk', 'spelunker', 'sportsmanship', 'stalactite', 'stalagmite', 'stewardship', 'strategic', 'strategy', 'stroke', 'study', 'subterranean', 'system', 'tee', 'terrain', 'thrill', 'tool', 'topography', 'track', 'trap', 'underground', 'underscore', 'understand', 'understanding', 'unique', 'urban', 'value', 'variety', 'vast', 'venturing', 'view', 'water', 'wind', 'within', 'world', 'worldwide']\n",
      "Vocabulary Size: 244\n"
     ]
    }
   ],
   "source": [
    "# Initialize an empty set to store the vocabulary\n",
    "vocabulary = set()\n",
    "\n",
    "# Iterate over each document and add each unique word to the vocabulary set\n",
    "for doc in spacy_lemmatized_docs:\n",
    "    for token in doc:\n",
    "        vocabulary.add(token)\n",
    "\n",
    "# Convert the set to a sorted list if you want the vocabulary to be ordered\n",
    "vocabulary = sorted(list(vocabulary))\n",
    "\n",
    "# Print the vocabulary\n",
    "print(\"Vocabulary:\")\n",
    "print(vocabulary)\n",
    "print(f\"Vocabulary Size: {len(vocabulary)}\")"
   ]
  },
  {
   "cell_type": "markdown",
   "metadata": {},
   "source": [
    "### Vectorization"
   ]
  },
  {
   "cell_type": "code",
   "execution_count": null,
   "metadata": {},
   "outputs": [],
   "source": []
  }
 ],
 "metadata": {
  "kernelspec": {
   "display_name": "base",
   "language": "python",
   "name": "python3"
  },
  "language_info": {
   "codemirror_mode": {
    "name": "ipython",
    "version": 3
   },
   "file_extension": ".py",
   "mimetype": "text/x-python",
   "name": "python",
   "nbconvert_exporter": "python",
   "pygments_lexer": "ipython3",
   "version": "3.10.14"
  }
 },
 "nbformat": 4,
 "nbformat_minor": 2
}
